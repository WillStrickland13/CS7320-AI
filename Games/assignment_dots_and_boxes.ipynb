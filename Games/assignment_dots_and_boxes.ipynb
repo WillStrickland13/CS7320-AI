{
 "cells": [
  {
   "cell_type": "markdown",
   "metadata": {},
   "source": [
    "# Adversarial Search: Playing Dots and Boxes\n",
    "\n",
    "\n",
    "## Instructions\n",
    "\n",
    "Total Points: Undegraduates 100, graduate students 110\n",
    "\n",
    "Complete this notebook and submit it. The notebook needs to be a complete project report with your implementation, documentation including a short discussion of how your implementation works and your design choices, and experimental results (e.g., tables and charts with simulation results) with a short discussion of what they mean. Use the provided notebook cells and insert additional code and markdown cells as needed.\n",
    "\n",
    "## Introduction\n",
    "\n",
    "You will implement different versions of agents that play the game Dots and Boxes:\n",
    "\n",
    "> \"Dots and Boxes is a pencil-and-paper game for two players. The game starts with an empty grid of dots. Usually two players take turns adding a single horizontal or vertical line between two unjoined adjacent dots. A player who completes the fourth side of a 1x1 box earns one point and takes another turn. A point is typically recorded by placing a mark that identifies the player in the box, such as an initial. The game ends when no more lines can be placed. The winner is the player with the most points. The board may be of any size grid.\" (see [Dots and Boxes on Wikipedia](https://en.wikipedia.org/wiki/Dots_and_Boxes))\n",
    "\n",
    "You can play Dots and Boxes [here](https://www.math.ucla.edu/~tom/Games/dots&boxes.html)."
   ]
  },
  {
   "cell_type": "markdown",
   "metadata": {},
   "source": [
    "## Task 1: Defining the Search Problem [10 point]\n",
    "\n",
    "Define the components of the search problem associated with this game:\n",
    "\n",
    "* Initial state\n",
    "* Actions\n",
    "* Transition model\n",
    "* Test for the terminal state\n",
    "* Utility for terminal states"
   ]
  },
  {
   "cell_type": "code",
   "execution_count": 1,
   "metadata": {},
   "outputs": [],
   "source": [
    "# Your code/answer goes here.\n",
    "# The initial state is the board is empty and it is one players turn\n",
    "# The actions are draw line.\n",
    "# The transition model is the action is executed and the next state is the board with the line drawn.\n",
    "# The test for the terminal state is if the board is full or if the player has won.\n",
    "# The utility for terminal states is the number of points the player has."
   ]
  },
  {
   "cell_type": "markdown",
   "metadata": {},
   "source": [
    "How big is the state space? Give an estimate and explain it."
   ]
  },
  {
   "cell_type": "code",
   "execution_count": 2,
   "metadata": {},
   "outputs": [],
   "source": [
    "# Your code/ answer goes here.\n",
    "# The state space could also be described as 2^number of edges * 2^(n*n), because each edge can be filled by 2 different people, and each square can be occupied by 2 different people.\n"
   ]
  },
  {
   "cell_type": "markdown",
   "metadata": {},
   "source": [
    "How big is the game tree that minimax search will go through? Give an estimate and explain it."
   ]
  },
  {
   "cell_type": "code",
   "execution_count": 3,
   "metadata": {},
   "outputs": [],
   "source": [
    "# Your code/ answer goes here."
   ]
  },
  {
   "cell_type": "markdown",
   "metadata": {},
   "source": [
    "## Task 2: Game Environment and Random Agent [30 point]\n",
    "\n",
    "You need to think about a data structure to represent the board meaning he placed lines and who finished what box. There are many options. Let's represent the board using a simple dictionary where `n` and `m` represents the number of dots horizontaly and vertically, respectively. Everybody needs to use the same representation so we can let agents play against each other later. "
   ]
  },
  {
   "cell_type": "code",
   "execution_count": 4,
   "metadata": {},
   "outputs": [],
   "source": [
    "import copy\n",
    "\n",
    "board = {\n",
    "    'n': 4,  ### hoizontal dots\n",
    "    'm': 4   ### vertical dots\n",
    "}\n",
    "\n",
    "def draw_line(board, orientation, row, col):\n",
    "    \"\"\"\n",
    "    Place a line on an exiting board.\n",
    "       \n",
    "    Parameters\n",
    "    ----------\n",
    "    board: dict\n",
    "        the board\n",
    "    orientation: str\n",
    "        either 'h' or 'v' for horizontal or vertical\n",
    "    row, col: int\n",
    "        index of the starting dot for the line (starting with 0)\n",
    "    \n",
    "    \"\"\"\n",
    "    \n",
    "    if orientation not in ['h', 'v']:\n",
    "        return False\n",
    "        \n",
    "    if row < 0 or col < 0:\n",
    "        return False\n",
    "        \n",
    "    if row >= board['n'] + (orientation == 'v') or col >= board['m'] + (orientation == 'h'):\n",
    "        return False\n",
    "        \n",
    "    if (orientation, row, col) in board:\n",
    "        return False\n",
    "            \n",
    "    board[(orientation, row, col)] = True\n",
    "    return True\n",
    "    \n",
    "\n",
    "\n",
    "\n"
   ]
  },
  {
   "cell_type": "markdown",
   "metadata": {},
   "source": [
    "Write code to display the board. **Bonus point: Post your visualization code with an example output to the discussion board. The best visualization will earn you bonus participation points in this class.**"
   ]
  },
  {
   "cell_type": "code",
   "execution_count": 5,
   "metadata": {
    "scrolled": true
   },
   "outputs": [],
   "source": [
    "# Your code/ answer goes here.\n",
    "#https://stackoverflow.com/questions/35109590/how-to-graph-nodes-on-a-grid-in-networkx\n",
    "import matplotlib.pyplot as plt\n",
    "import networkx as nx\n",
    "edge_colors = ['blue', 'red']\n",
    "edgeLabels = {}\n",
    "# functions  to create empty visualization\n",
    "def drawBoard(G,edgeLabels):\n",
    "\n",
    "    colors = nx.get_edge_attributes(G,'color').values()\n",
    "    labels = nx.get_edge_attributes(G,'label').values()\n",
    "    pos = {(x,y):(y,-x) for x,y in G.nodes()}\n",
    "    nx.draw(G, pos=pos,\n",
    "        node_color='lightgreen',\n",
    "        edge_color=colors,\n",
    "        width=8,\n",
    "        with_labels=True,\n",
    "        node_size=600)\n",
    "    nx.draw_networkx_edge_labels(G, pos, edgeLabels)\n",
    "\n",
    "def createEmptyBoard(G,edgeLabels):\n",
    "    plt.figure(figsize=(6,6))\n",
    "    for edge in G.edges():\n",
    "        G.remove_edge(*edge)\n",
    "    # Set margins for the axes so that nodes aren't clipped\n",
    "    #drawBoard(G,edgeLabels)\n",
    "\n",
    "def addEdge(G,board, x,y, orientation,player,edgeLabels):\n",
    "    #set the colors of the edges\n",
    "    color=edge_colors[player]\n",
    "    label=player\n",
    "    draw_line(board, orientation, x,y)\n",
    "\n",
    "    #add the edge to the graph\n",
    "    if orientation == 'h':\n",
    "        G.add_edge((x,y), (x,y+1), color=color, label=label)\n",
    "        edgeLabels.update({((x,y),(x,y+1)):player})\n",
    "    else:\n",
    "        G.add_edge((x,y), (x+1,y), color=color, label=label)\n",
    "        edgeLabels.update({((x,y),(x+1,y)):player})\n",
    "    #drawBoard(G,edgeLabels)\n",
    "    return board\n",
    "\n",
    "def removeEdge(G,board, x,y, orientation,edgeLabels):\n",
    "    del board[(orientation, x,y)]\n",
    "    #add the edge to the graph\n",
    "    if orientation == 'h':\n",
    "        G.remove_edge((x,y), (x,y+1))\n",
    "        edgeLabels.update({((x,y),(x,y+1)):\"\"})\n",
    "    else:\n",
    "        G.remove_edge((x,y), (x+1,y))\n",
    "        edgeLabels.update({((x,y),(x+1,y)):\"\"})\n",
    "    #drawBoard(G,edgeLabels)\n",
    "    return board\n",
    "# G = nx.grid_2d_graph(board['n'], board['m'])\n",
    "# createEmptyBoard(G,edgeLabels)\n",
    "# addEdge(G,board, 0,0, 'h',1,edgeLabels)\n",
    "# removeEdge(G,board, 0,0, 'h',edgeLabels)\n",
    "# drawBoard(G,edgeLabels)\n",
    "# addEdge(G, 0,0, 'v',1)\n",
    "#\n",
    "#\n",
    "# addEdge(G, 0,1, 'v',1)\n",
    "# addEdge(G, 1,0, 'h',0)\n",
    "#\n",
    "# addEdge(G,2,2, 'h',0)\n",
    "# addEdge(G,2,2, 'v',1)\n",
    "# addEdge(G,2,3, 'v',1)\n",
    "# addEdge(G,3,2, 'h',0)\n",
    "# print(board)\n"
   ]
  },
  {
   "cell_type": "markdown",
   "metadata": {},
   "source": [
    "Implement helper functions for:\n",
    "\n",
    "* The transition model $result(s, a)$.\n",
    "* The utility function $utility(s)$.\n",
    "* Check for terminal states $terminal(s)$.\n",
    "* A check for available actions in each state $actions(s)$.\n",
    "\n",
    "Make sure that all these functions work with boards of different sizes (number of columns and rows as stored in the board)."
   ]
  },
  {
   "cell_type": "code",
   "execution_count": 21,
   "metadata": {},
   "outputs": [],
   "source": [
    "\n",
    "\n",
    "def utility(board,player):\n",
    "    #check who has more boxes and award that player a point\n",
    "    player1=0\n",
    "    player0=0\n",
    "    #print(board)\n",
    "    for i in range(board['n']-1):\n",
    "        for j in range(board['m']-1):\n",
    "            #if the all sides of the box exist and are true\n",
    "            if (('h', i, j) in board and board['h',i,j]==True)\\\n",
    "                    and (('h', i+1, j) in board and board['h',i+1,j]==True) \\\n",
    "                    and (('v', i, j) in board and board['v',i,j]==True)\\\n",
    "                    and (('v', i, j+1) in board and board['v',i,j+1]==True):\n",
    "\n",
    "                # then determine which player completed the box by checking which was most recently\n",
    "                # added to the list of moves\n",
    "                mostRecentMove = list(board.keys()).index(('h', i, j))\n",
    "                if(list(board.keys()).index(('h', i+1, j)) > mostRecentMove):\n",
    "                    mostRecentMove= list(board.keys()).index(('h', i+1, j))\n",
    "                if(list(board.keys()).index(('v', i, j+1)) > mostRecentMove):\n",
    "                    mostRecentMove= list(board.keys()).index(('v', i, j+1))\n",
    "                if(list(board.keys()).index(('v', i, j)) > mostRecentMove):\n",
    "                    mostRecentMove= list(board.keys()).index(('v', i, j))\n",
    "\n",
    "                #set the most recent move to the most recent move index\n",
    "                value_at_index=list(board.keys())[mostRecentMove]\n",
    "\n",
    "                #determine the the player whos number is on the edge that completed the box\n",
    "                if(value_at_index[0]=='h'):\n",
    "                    player = (edgeLabels[(value_at_index[1],value_at_index[2]),(value_at_index[1],value_at_index[2]+1)])\n",
    "                if(value_at_index[0]=='v'):\n",
    "                    player = (edgeLabels[(value_at_index[1],value_at_index[2]),(value_at_index[1]+1,value_at_index[2])])\n",
    "\n",
    "                #increment the player that completed the box\n",
    "                if(player==1):\n",
    "                    player1+=1\n",
    "                else:\n",
    "                    player0+=1\n",
    "    #if player1 has more boxes, return 1\n",
    "    if player1>player0 and player==1:\n",
    "        return +1\n",
    "    elif player1>player0 and player==0:\n",
    "        return -1\n",
    "    elif player0>player1 and player==0:\n",
    "        return +1\n",
    "    elif player0>player1 and player==1:\n",
    "        return -1\n",
    "    else:\n",
    "        return None\n",
    "def checkWin(board,edgeLabels):\n",
    "    player1=0\n",
    "    player0=0\n",
    "\n",
    "    for i in range(board['n']-1):\n",
    "        for j in range(board['m']-1):\n",
    "            #if the all sides of the box exist and are true\n",
    "            if (('h', i, j) in board and board['h',i,j]==True)\\\n",
    "                    and (('h', i+1, j) in board and board['h',i+1,j]==True) \\\n",
    "                    and (('v', i, j) in board and board['v',i,j]==True)\\\n",
    "                    and (('v', i, j+1) in board and board['v',i,j+1]==True):\n",
    "\n",
    "                # then determine which player completed the box by checking which was most recently\n",
    "                # added to the list of moves\n",
    "                mostRecentMove = list(board.keys()).index(('h', i, j))\n",
    "                if(list(board.keys()).index(('h', i+1, j)) > mostRecentMove):\n",
    "                    mostRecentMove= list(board.keys()).index(('h', i+1, j))\n",
    "                if(list(board.keys()).index(('v', i, j+1)) > mostRecentMove):\n",
    "                    mostRecentMove= list(board.keys()).index(('v', i, j+1))\n",
    "                if(list(board.keys()).index(('v', i, j)) > mostRecentMove):\n",
    "                    mostRecentMove= list(board.keys()).index(('v', i, j))\n",
    "\n",
    "                #set the most recent move to the most recent move index\n",
    "                value_at_index=list(board.keys())[mostRecentMove]\n",
    "\n",
    "                #determine the the player whos number is on the edge that completed the box\n",
    "                if(value_at_index[0]=='h'):\n",
    "                    player = (edgeLabels[(value_at_index[1],value_at_index[2]),(value_at_index[1],value_at_index[2]+1)])\n",
    "                if(value_at_index[0]=='v'):\n",
    "                    player = (edgeLabels[(value_at_index[1],value_at_index[2]),(value_at_index[1]+1,value_at_index[2])])\n",
    "\n",
    "                #increment the player that completed the box\n",
    "                if(player==1):\n",
    "                    player1+=1\n",
    "                else:\n",
    "                    player0+=1\n",
    "    if(player1>player0):\n",
    "        return 1,player1\n",
    "    elif(player0>player1):\n",
    "        return 0,player0\n",
    "    else:\n",
    "        return None,0\n",
    "def actions(board):\n",
    "    #initialize list of actions to none\n",
    "    acts=[]\n",
    "\n",
    "    #check if there are any available actions\n",
    "    for i in range (board['n']-1):\n",
    "        for j in range (board['m']-1):\n",
    "            orientation = 'h'\n",
    "            if (orientation, i, j) not in board:\n",
    "                acts.append((orientation, i, j))\n",
    "            orientation = 'v'\n",
    "            if (orientation, i, j) not in board:\n",
    "                acts.append((orientation, i, j))\n",
    "\n",
    "    #Add bottom and right side of board to possible actions\n",
    "    for i in range(board['n']-1):\n",
    "        if(\"v\",i,board['m']-1) not in board:\n",
    "            acts.append((\"v\",i,board['m']-1))\n",
    "    for i in range(board['m']-1):\n",
    "        if(\"h\",board['n']-1,i) not in board:\n",
    "            acts.append((\"h\",board['n']-1,i))\n",
    "    return acts\n",
    "\n",
    "\n",
    "\n",
    "def terminal(board):\n",
    "    #if there are no more actions, then the game is over\n",
    "    if actions(board)==[]:\n",
    "        return True\n",
    "    else:\n",
    "        return False\n",
    "\n",
    "#print(actions(board))\n",
    "\n",
    "\n",
    "\n",
    "#utility(board)"
   ]
  },
  {
   "cell_type": "markdown",
   "metadata": {},
   "source": [
    "Implement an agent that plays randomly. Make sure the agent function receives as the percept the board and returns a valid action. Use an agent function definition with the following signature (arguments):\n",
    "\n",
    "`def random_player(board, player = None): ...`\n",
    "\n",
    "The argument `player` is used for agents that do not store what side they are playing. The value passed on bt yhe environment should be 1 ot -1 for playerred and yellow, respectively.  See [Experiments section for tic-tac-toe](https://nbviewer.org/github/mhahsler/CS7320-AI/blob/master/Games/tictactoe_and_or_tree_search.ipynb#Experiments) for an example."
   ]
  },
  {
   "cell_type": "code",
   "execution_count": 7,
   "outputs": [
    {
     "data": {
      "text/plain": "<Figure size 432x432 with 0 Axes>"
     },
     "metadata": {},
     "output_type": "display_data"
    }
   ],
   "source": [
    "# Your code/ answer goes here.\n",
    "import random\n",
    "\n",
    "def random_player(board, player,edgeLabels,G):\n",
    "    #load all possible actions into a list\n",
    "    acts=actions(board)\n",
    "\n",
    "    #randomly choose an action from the list\n",
    "    act=acts[random.randint(0,len(acts)-1)]\n",
    "\n",
    "    #execute and add the random edge to the board\n",
    "    addEdge(G,board, act[1],act[2], act[0],player,edgeLabels)\n",
    "\n",
    "\n",
    "#reset the colors and labels on the visualization\n",
    "edge_colors = ['blue', 'red']\n",
    "edgeLabels = {}\n",
    "\n",
    "#set the board height and width\n",
    "board2 = {\n",
    "    'n': 6,  ### hoizontal dots\n",
    "    'm': 6   ### vertical dots\n",
    "}\n",
    "\n",
    "#create empty visualization\n",
    "G2 = nx.grid_2d_graph(board2['n'], board2['m'])\n",
    "createEmptyBoard(G2,edgeLabels)\n",
    "\n",
    "#loop while not terminal\n",
    "while not terminal(board2):\n",
    "    random_player(board2, 1,edgeLabels,G2)\n",
    "    if not terminal(board2):\n",
    "        random_player(board2, 0,edgeLabels,G2)\n",
    "\n",
    "#print the winner\n",
    "utility(board2,1)\n",
    "\n",
    "#clear the visualization\n",
    "G2.clear()"
   ],
   "metadata": {
    "collapsed": false,
    "pycharm": {
     "name": "#%%\n"
    }
   }
  },
  {
   "cell_type": "markdown",
   "source": [
    "Let two random agents play against each other 1000 times. Look at the [Experiments section for tic-tac-toe](https://nbviewer.org/github/mhahsler/CS7320-AI/blob/master/Games/tictactoe_and_or_tree_search.ipynb#Experiments) to see how the environment uses the agent functions to play against each other.\n",
    "\n",
    "How often does each player win? Is the result expected?"
   ],
   "metadata": {
    "collapsed": false
   }
  },
  {
   "cell_type": "markdown",
   "source": [
    "* After testing on various board sizes, I found that with a small board, with 9 possible boxes, the player who goes first won around 90% of the time. However, with a larger board, with 36 possible boxes, each player wins about 50% of the time."
   ],
   "metadata": {
    "collapsed": false
   }
  },
  {
   "cell_type": "code",
   "execution_count": 8,
   "outputs": [
    {
     "name": "stdout",
     "output_type": "stream",
     "text": [
      "Player 1 wins  643\n",
      "Player 0 wins  357\n",
      "Ties  0\n"
     ]
    }
   ],
   "source": [
    "# Your code/ answer goes here.\n",
    "def play(limit):\n",
    "    player1wins=0\n",
    "    player0wins=0\n",
    "    ties=0\n",
    "    for i in range(limit):\n",
    "        edgeLabels = {}\n",
    "        board2 = {\n",
    "            'n': 6,  ### hoizontal dots\n",
    "            'm': 6   ### vertical dots\n",
    "        }\n",
    "        G2 = nx.grid_2d_graph(board2['n'], board2['m'])\n",
    "        createEmptyBoard(G2,edgeLabels)\n",
    "\n",
    "        #loop until terminal state\n",
    "        while not terminal(board2):\n",
    "            random_player(board2, 1,edgeLabels,G2)\n",
    "            if not terminal(board2):\n",
    "                random_player(board2, 0,edgeLabels,G2)\n",
    "        #if winner is player 1, increment player1wins\n",
    "        if utility(board2,1)==1:\n",
    "            player1wins+=1\n",
    "        #if winner is player 0, increment player0wins\n",
    "        elif utility(board2,1)==-1:\n",
    "            player0wins+=1\n",
    "        #if utility is tie, increment ties\n",
    "        else:\n",
    "            ties+=1\n",
    "\n",
    "        #clear graph for next iteration\n",
    "        G2.clear()\n",
    "\n",
    "        #close the graph\n",
    "        plt.close()\n",
    "\n",
    "    #Print the results\n",
    "    print(\"Player 1 wins \",player1wins)\n",
    "    print(\"Player 0 wins \",player0wins)\n",
    "    print(\"Ties \",ties)\n",
    "\n",
    "\n",
    "play(1000)"
   ],
   "metadata": {
    "collapsed": false,
    "pycharm": {
     "name": "#%%\n"
    }
   }
  },
  {
   "cell_type": "markdown",
   "source": [
    "## Task 3: Minimax Search with Alpha-Beta Pruning [30 points]\n",
    "\n",
    "### Implement the search starting.\n",
    "\n",
    "Implement the search starting from a given board and specifying the player and put it into an agent function.\n",
    "You can use code from the [tic-tac-toe example](https://nbviewer.org/github/mhahsler/CS7320-AI/blob/master/Games/tictactoe_alpha_beta_tree_search.ipynb).\n",
    "\n",
    "__Notes:__\n",
    "* Make sure that all your agent functions have a signature consistent with the random agent above.\n",
    "* The search space for larger board may be too large. You can experiment with smaller boards."
   ],
   "metadata": {
    "collapsed": false
   }
  },
  {
   "cell_type": "code",
   "execution_count": 9,
   "outputs": [],
   "source": [
    "import math\n",
    "import networkx as nx\n",
    "import copy\n",
    "import numpy as np\n",
    "\n",
    "DEBUG = 1 # 1 ... count nodes, 2 ... debug each node\n",
    "COUNT = 0\n",
    "\n",
    "def other(player):\n",
    "    if player == 0: return 1\n",
    "    else: return 0\n",
    "\n",
    "def result(board, player,a):\n",
    "    \"\"\"\n",
    "    Return the board that results from making move (i, j) on board.\n",
    "    \"\"\"\n",
    "\n",
    "\n",
    "    board2= board.copy()\n",
    "    draw_line(board2,a[0],a[1],a[2])\n",
    "\n",
    "    return board2\n",
    "\n",
    "def resultEdgeLabels( player,a,edges):\n",
    "    \"\"\"\n",
    "    Return the board that results from making move (i, j) on board.\n",
    "    \"\"\"\n",
    "    edgeLabels2=edges.copy()\n",
    "    orientation = a[0]\n",
    "    x = a[1]\n",
    "    y = a[2]\n",
    "    if orientation == 'h':\n",
    "        edgeLabels2.update({((x,y),(x,y+1)):player})\n",
    "    else:\n",
    "        edgeLabels2.update({((x,y),(x+1,y)):player})\n",
    "    return edgeLabels2\n",
    "\n",
    "\n",
    "def updateEdges(player,a):\n",
    "    global edgeLabels\n",
    "    orientation = a[\"move\"][0]\n",
    "    x = a[\"move\"][1]\n",
    "    y = a[\"move\"][2]\n",
    "    if orientation == 'h':\n",
    "        edgeLabels.update({((x,y),(x,y+1)):player})\n",
    "    else:\n",
    "        edgeLabels.update({((x,y),(x+1,y)):player})\n",
    "\n",
    "def utility2(board,player,edgeL):\n",
    "\n",
    "    #check who has more boxes and award that player a point\n",
    "    if not terminal(board):\n",
    "        return None\n",
    "    player1=0\n",
    "    player0=0\n",
    "    #print(board)\n",
    "    for i in range(board['n']-1):\n",
    "        for j in range(board['m']-1):\n",
    "            #if the all sides of the box exist and are true\n",
    "            if (('h', i, j) in board and board['h',i,j]==True)\\\n",
    "                    and (('h', i+1, j) in board and board['h',i+1,j]==True) \\\n",
    "                    and (('v', i, j) in board and board['v',i,j]==True)\\\n",
    "                    and (('v', i, j+1) in board and board['v',i,j+1]==True):\n",
    "\n",
    "                # then determine which player completed the box by checking which was most recently\n",
    "                # added to the list of moves\n",
    "                mostRecentMove = list(board.keys()).index(('h', i, j))\n",
    "                if(list(board.keys()).index(('h', i+1, j)) > mostRecentMove):\n",
    "                    mostRecentMove= list(board.keys()).index(('h', i+1, j))\n",
    "                if(list(board.keys()).index(('v', i, j+1)) > mostRecentMove):\n",
    "                    mostRecentMove= list(board.keys()).index(('v', i, j+1))\n",
    "                if(list(board.keys()).index(('v', i, j)) > mostRecentMove):\n",
    "                    mostRecentMove= list(board.keys()).index(('v', i, j))\n",
    "\n",
    "                #set the most recent move to the most recent move index\n",
    "                value_at_index=list(board.keys())[mostRecentMove]\n",
    "\n",
    "                #determine the the player whos number is on the edge that completed the box\n",
    "                if(value_at_index[0]=='h'):\n",
    "                    player = (edgeL[(value_at_index[1],value_at_index[2]),(value_at_index[1],value_at_index[2]+1)])\n",
    "                if(value_at_index[0]=='v'):\n",
    "                    player = (edgeL[(value_at_index[1],value_at_index[2]),(value_at_index[1]+1,value_at_index[2])])\n",
    "\n",
    "                #increment the player that completed the box\n",
    "                if(player==1):\n",
    "                    player1+=1\n",
    "                else:\n",
    "                    player0+=1\n",
    "    #if player1 has more boxes, return 1\n",
    "    if player1>player0 and player==1:\n",
    "        return +1\n",
    "    elif player1>player0 and player==0:\n",
    "        return -1\n",
    "    elif player0>player1 and player==0:\n",
    "        return +1\n",
    "    elif player0>player1 and player==1:\n",
    "        return -1\n",
    "    else:\n",
    "        return 0\n",
    "\n",
    "def alpha_beta_search(board, player):\n",
    "    \"\"\"start the search.\"\"\"\n",
    "    global DEBUG, COUNT, edgeLabels\n",
    "    COUNT = 0\n",
    "    value, move = max_value_ab(board, player, -math.inf, +math.inf,edgeLabels)\n",
    "\n",
    "    if DEBUG >= 1: print(f\"Number of nodes searched: {COUNT}\")\n",
    "\n",
    "    return { \"move\": move, \"value\": value }\n",
    "\n",
    "def max_value_ab(state, player, alpha, beta,edges):\n",
    "    \"\"\"player's best move.\"\"\"\n",
    "    global DEBUG, COUNT, edgeLabels\n",
    "    COUNT += 1\n",
    "\n",
    "    # return utility of state is a terminal state\n",
    "    v = utility2(state, player, edges)\n",
    "    if DEBUG >= 2: print(\"max: \" + str(state) + str([alpha, beta, v]) )\n",
    "    if v is not None:\n",
    "        return v, None\n",
    "\n",
    "    v, move = -math.inf, None\n",
    "\n",
    "    # check all possible actions in the state, update alpha and return move with the largest value\n",
    "    for a in actions(state):\n",
    "\n",
    "        v2, a2 = min_value_ab(result(state, player, a), player, alpha, beta,resultEdgeLabels(player,a,edges))\n",
    "\n",
    "        if v2 > v:\n",
    "            v, move = v2, a\n",
    "            alpha = max(alpha, v)\n",
    "        if v >= beta: return v, move\n",
    "\n",
    "    return v, move\n",
    "\n",
    "def min_value_ab(state, player, alpha, beta,edges):\n",
    "\n",
    "    \"\"\"opponent's best response.\"\"\"\n",
    "    global DEBUG, COUNT, edgeLabels\n",
    "    COUNT += 1\n",
    "    # return utility of state is a terminal state\n",
    "    v = utility2(state, player, edges)\n",
    "    if DEBUG >= 2: print(\"min: \" + str(state) + str([alpha, beta, v]) )\n",
    "    if v is not None:\n",
    "        return v, None\n",
    "\n",
    "    v, move = +math.inf, None\n",
    "\n",
    "    # check all possible actions in the state, update beta and return move with the smallest value\n",
    "    for a in actions(state):\n",
    "        v2, a2 = max_value_ab(result(state, other(player), a), player, alpha, beta,resultEdgeLabels(other(player),a,edges))\n",
    "        if v2 < v:\n",
    "            v, move = v2, a\n",
    "            beta = min(beta, v)\n",
    "        if v <= alpha: return v, move\n",
    "\n",
    "    return v, move\n",
    "\n",
    "def playMinimax(G,board,edgeLabels):\n",
    "    player = 0\n",
    "    while not terminal(board):\n",
    "        move = (alpha_beta_search(board,player))\n",
    "        addEdge(G,board,move[\"move\"][1],move[\"move\"][2],move[\"move\"][0],player,edgeLabels)\n",
    "        player= other(player)\n",
    "# global variables\n",
    "\n"
   ],
   "metadata": {
    "collapsed": false,
    "pycharm": {
     "name": "#%%\n"
    }
   }
  },
  {
   "cell_type": "markdown",
   "source": [
    "Experiment with some manually created boards (at least 5) to check if the agent spots winning opportunities."
   ],
   "metadata": {
    "collapsed": false
   }
  },
  {
   "cell_type": "code",
   "execution_count": 10,
   "metadata": {},
   "outputs": [
    {
     "name": "stdout",
     "output_type": "stream",
     "text": [
      "Number of nodes searched: 3106\n",
      "Alpha beta search picks  {'move': ('v', 0, 2), 'value': 1}\n",
      "Number of nodes searched: 1094\n",
      "Alpha beta search picks  {'move': ('v', 1, 0), 'value': 1}\n",
      "Number of nodes searched: 96\n",
      "Alpha beta search picks  {'move': ('v', 1, 1), 'value': 1}\n"
     ]
    },
    {
     "data": {
      "text/plain": "<Figure size 432x432 with 1 Axes>",
      "image/png": "[encoded data removed]"
     },
     "metadata": {},
     "output_type": "display_data"
    }
   ],
   "source": [
    "# The Blue line show the moves the minimax agent has made.\n",
    "# You can see the minimax agent is able to find the winning move three times in a row\n",
    "# Each time, the agent picks the best move, evident in the second move it picked\n",
    "# It elected to not close a box which allowed for it to close two boxes on its third turn\n",
    "edgeLabels = {}\n",
    "board = {\n",
    "    'n': 4,  ### hoizontal dots\n",
    "    'm': 4   ### vertical dots\n",
    "}\n",
    "G = nx.grid_2d_graph(board['n'], board['m'])\n",
    "createEmptyBoard(G,edgeLabels)\n",
    "addEdge(G,board,0,0,'v',1,edgeLabels)\n",
    "addEdge(G,board,0,1,'v',1,edgeLabels)\n",
    "addEdge(G,board,0,0,'h',1,edgeLabels)\n",
    "addEdge(G,board,1,0,'h',1,edgeLabels)\n",
    "addEdge(G,board,0,1,'h',1,edgeLabels)\n",
    "addEdge(G,board,1,1,'h',1,edgeLabels)\n",
    "addEdge(G,board,0,2,'h',1,edgeLabels)\n",
    "addEdge(G,board,1,2,'h',1,edgeLabels)\n",
    "addEdge(G,board,0,3,'v',1,edgeLabels)\n",
    "addEdge(G,board,1,3,'v',1,edgeLabels)\n",
    "addEdge(G,board,2,0,'h',1,edgeLabels)\n",
    "addEdge(G,board,2,1,'h',1,edgeLabels)\n",
    "addEdge(G,board,2,2,'h',1,edgeLabels)\n",
    "addEdge(G,board,3,0,'h',1,edgeLabels)\n",
    "addEdge(G,board,3,1,'h',1,edgeLabels)\n",
    "addEdge(G,board,3,2,'h',1,edgeLabels)\n",
    "\n",
    "\n",
    "move = (alpha_beta_search(board,0))\n",
    "addEdge(G,board,move[\"move\"][1],move[\"move\"][2],move[\"move\"][0],0,edgeLabels)\n",
    "print(\"Alpha beta search picks \", move)\n",
    "\n",
    "move = (alpha_beta_search(board,0))\n",
    "addEdge(G,board,move[\"move\"][1],move[\"move\"][2],move[\"move\"][0],0,edgeLabels)\n",
    "print(\"Alpha beta search picks \",move)\n",
    "\n",
    "addEdge(G,board,1,2,'v',1,edgeLabels)\n",
    "\n",
    "move = (alpha_beta_search(board,0))\n",
    "addEdge(G,board,move[\"move\"][1],move[\"move\"][2],move[\"move\"][0],0,edgeLabels)\n",
    "print(\"Alpha beta search picks \",move)\n",
    "\n",
    "drawBoard(G,edgeLabels)\n",
    "\n"
   ]
  },
  {
   "cell_type": "code",
   "execution_count": 11,
   "outputs": [
    {
     "name": "stdout",
     "output_type": "stream",
     "text": [
      "Number of nodes searched: 2\n",
      "Alpha beta search picks  {'move': ('v', 2, 3), 'value': -1}\n"
     ]
    },
    {
     "data": {
      "text/plain": "<Figure size 432x432 with 1 Axes>",
      "image/png": "[encoded data removed]"
     },
     "metadata": {},
     "output_type": "display_data"
    }
   ],
   "source": [
    "# Example 2\n",
    "# In this example you can see it works if there is only one possible move left\n",
    "edgeLabels = {}\n",
    "board = {\n",
    "    'n': 4,  ### hoizontal dots\n",
    "    'm': 4   ### vertical dots\n",
    "}\n",
    "G = nx.grid_2d_graph(board['n'], board['m'])\n",
    "createEmptyBoard(G,edgeLabels)\n",
    "addEdge(G,board,0,0,'v',1,edgeLabels)\n",
    "addEdge(G,board,0,1,'v',1,edgeLabels)\n",
    "addEdge(G,board,0,0,'h',1,edgeLabels)\n",
    "addEdge(G,board,1,0,'h',1,edgeLabels)\n",
    "addEdge(G,board,0,1,'h',1,edgeLabels)\n",
    "addEdge(G,board,1,1,'h',1,edgeLabels)\n",
    "addEdge(G,board,0,2,'h',1,edgeLabels)\n",
    "addEdge(G,board,1,2,'h',1,edgeLabels)\n",
    "addEdge(G,board,0,3,'v',1,edgeLabels)\n",
    "addEdge(G,board,1,3,'v',1,edgeLabels)\n",
    "addEdge(G,board,2,0,'h',1,edgeLabels)\n",
    "addEdge(G,board,2,1,'h',1,edgeLabels)\n",
    "addEdge(G,board,2,2,'h',1,edgeLabels)\n",
    "addEdge(G,board,3,0,'h',1,edgeLabels)\n",
    "addEdge(G,board,3,1,'h',1,edgeLabels)\n",
    "addEdge(G,board,3,2,'h',1,edgeLabels)\n",
    "addEdge(G,board,0,2,'v',1,edgeLabels)\n",
    "addEdge(G,board,1,0,'v',1,edgeLabels)\n",
    "addEdge(G,board,1,1,'v',1,edgeLabels)\n",
    "addEdge(G,board,1,2,'v',1,edgeLabels)\n",
    "addEdge(G,board,2,0,'v',1,edgeLabels)\n",
    "addEdge(G,board,2,1,'v',1,edgeLabels)\n",
    "addEdge(G,board,2,2,'v',1,edgeLabels)\n",
    "move = (alpha_beta_search(board,0))\n",
    "addEdge(G,board,move[\"move\"][1],move[\"move\"][2],move[\"move\"][0],0,edgeLabels)\n",
    "print(\"Alpha beta search picks \",move)\n",
    "\n",
    "\n",
    "drawBoard(G,edgeLabels)"
   ],
   "metadata": {
    "collapsed": false,
    "pycharm": {
     "name": "#%%\n"
    }
   }
  },
  {
   "cell_type": "code",
   "execution_count": 12,
   "outputs": [
    {
     "name": "stdout",
     "output_type": "stream",
     "text": [
      "Number of nodes searched: 5\n",
      "Alpha beta search picks  {'move': ('v', 1, 2), 'value': 1}\n"
     ]
    },
    {
     "data": {
      "text/plain": "<Figure size 432x432 with 1 Axes>",
      "image/png": "[encoded data removed]"
     },
     "metadata": {},
     "output_type": "display_data"
    }
   ],
   "source": [
    "# Example 3: In this example it has the option to either pick the move that results in closing 2 boxes or the move that results in closing 1 box, and correctly picks the move that results in closing 2 boxes\n",
    "edgeLabels = {}\n",
    "board = {\n",
    "    'n': 4,  ### hoizontal dots\n",
    "    'm': 4   ### vertical dots\n",
    "}\n",
    "G = nx.grid_2d_graph(board['n'], board['m'])\n",
    "createEmptyBoard(G,edgeLabels)\n",
    "addEdge(G,board,0,0,'v',1,edgeLabels)\n",
    "addEdge(G,board,0,1,'v',1,edgeLabels)\n",
    "addEdge(G,board,0,0,'h',1,edgeLabels)\n",
    "addEdge(G,board,1,0,'h',1,edgeLabels)\n",
    "addEdge(G,board,0,1,'h',1,edgeLabels)\n",
    "addEdge(G,board,1,1,'h',1,edgeLabels)\n",
    "addEdge(G,board,0,2,'h',1,edgeLabels)\n",
    "addEdge(G,board,1,2,'h',1,edgeLabels)\n",
    "addEdge(G,board,0,3,'v',1,edgeLabels)\n",
    "addEdge(G,board,1,3,'v',1,edgeLabels)\n",
    "addEdge(G,board,2,0,'h',1,edgeLabels)\n",
    "addEdge(G,board,2,1,'h',1,edgeLabels)\n",
    "addEdge(G,board,2,2,'h',1,edgeLabels)\n",
    "addEdge(G,board,3,0,'h',1,edgeLabels)\n",
    "addEdge(G,board,3,1,'h',1,edgeLabels)\n",
    "addEdge(G,board,3,2,'h',1,edgeLabels)\n",
    "addEdge(G,board,0,2,'v',1,edgeLabels)\n",
    "addEdge(G,board,1,0,'v',1,edgeLabels)\n",
    "addEdge(G,board,1,1,'v',1,edgeLabels)\n",
    "addEdge(G,board,2,0,'v',1,edgeLabels)\n",
    "addEdge(G,board,2,1,'v',1,edgeLabels)\n",
    "addEdge(G,board,2,2,'v',1,edgeLabels)\n",
    "move = (alpha_beta_search(board,0))\n",
    "addEdge(G,board,move[\"move\"][1],move[\"move\"][2],move[\"move\"][0],0,edgeLabels)\n",
    "print(\"Alpha beta search picks \",move)\n",
    "\n",
    "drawBoard(G,edgeLabels)"
   ],
   "metadata": {
    "collapsed": false,
    "pycharm": {
     "name": "#%%\n"
    }
   }
  },
  {
   "cell_type": "code",
   "execution_count": 13,
   "outputs": [
    {
     "name": "stdout",
     "output_type": "stream",
     "text": [
      "Number of nodes searched: 31\n",
      "Alpha beta search picks  {'move': ('v', 1, 1), 'value': 1}\n"
     ]
    },
    {
     "data": {
      "text/plain": "<Figure size 432x432 with 1 Axes>",
      "image/png": "[encoded data removed]"
     },
     "metadata": {},
     "output_type": "display_data"
    }
   ],
   "source": [
    "#Example 4: In this example if it were to pick to place a line on 1,2 vertically again, then the opposing player would have been able to close two boxes with one turn so it elects a different spot\n",
    "edgeLabels = {}\n",
    "board = {\n",
    "    'n': 4,  ### hoizontal dots\n",
    "    'm': 4   ### vertical dots\n",
    "}\n",
    "G = nx.grid_2d_graph(board['n'], board['m'])\n",
    "createEmptyBoard(G,edgeLabels)\n",
    "addEdge(G,board,0,0,'v',1,edgeLabels)\n",
    "addEdge(G,board,0,1,'v',1,edgeLabels)\n",
    "addEdge(G,board,0,0,'h',1,edgeLabels)\n",
    "addEdge(G,board,1,0,'h',1,edgeLabels)\n",
    "addEdge(G,board,0,1,'h',1,edgeLabels)\n",
    "addEdge(G,board,1,1,'h',1,edgeLabels)\n",
    "addEdge(G,board,0,2,'h',1,edgeLabels)\n",
    "addEdge(G,board,1,2,'h',1,edgeLabels)\n",
    "addEdge(G,board,0,3,'v',1,edgeLabels)\n",
    "addEdge(G,board,2,0,'h',1,edgeLabels)\n",
    "addEdge(G,board,2,1,'h',1,edgeLabels)\n",
    "addEdge(G,board,2,2,'h',1,edgeLabels)\n",
    "addEdge(G,board,3,0,'h',1,edgeLabels)\n",
    "addEdge(G,board,3,1,'h',1,edgeLabels)\n",
    "addEdge(G,board,3,2,'h',1,edgeLabels)\n",
    "addEdge(G,board,0,2,'v',1,edgeLabels)\n",
    "addEdge(G,board,1,0,'v',1,edgeLabels)\n",
    "addEdge(G,board,2,0,'v',1,edgeLabels)\n",
    "addEdge(G,board,2,1,'v',1,edgeLabels)\n",
    "addEdge(G,board,2,2,'v',1,edgeLabels)\n",
    "move = (alpha_beta_search(board,0))\n",
    "addEdge(G,board,move[\"move\"][1],move[\"move\"][2],move[\"move\"][0],0,edgeLabels)\n",
    "print(\"Alpha beta search picks \",move)\n",
    "\n",
    "drawBoard(G,edgeLabels)"
   ],
   "metadata": {
    "collapsed": false,
    "pycharm": {
     "name": "#%%\n"
    }
   }
  },
  {
   "cell_type": "code",
   "execution_count": 14,
   "outputs": [
    {
     "name": "stdout",
     "output_type": "stream",
     "text": [
      "Number of nodes searched: 2\n",
      "Alpha beta search picks  {'move': ('h', 0, 2), 'value': 1}\n"
     ]
    },
    {
     "data": {
      "text/plain": "<Figure size 432x432 with 1 Axes>",
      "image/png": "[encoded data removed]"
     },
     "metadata": {},
     "output_type": "display_data"
    }
   ],
   "source": [
    "#Example 5: Here is another example of it simply picking the correct final move\n",
    "edgeLabels = {}\n",
    "board = {\n",
    "    'n': 4,  ### hoizontal dots\n",
    "    'm': 4   ### vertical dots\n",
    "}\n",
    "G = nx.grid_2d_graph(board['n'], board['m'])\n",
    "createEmptyBoard(G,edgeLabels)\n",
    "addEdge(G,board,0,0,'v',1,edgeLabels)\n",
    "addEdge(G,board,0,1,'v',1,edgeLabels)\n",
    "addEdge(G,board,0,0,'h',1,edgeLabels)\n",
    "addEdge(G,board,1,0,'h',1,edgeLabels)\n",
    "addEdge(G,board,0,1,'h',1,edgeLabels)\n",
    "addEdge(G,board,1,1,'h',1,edgeLabels)\n",
    "addEdge(G,board,1,2,'h',1,edgeLabels)\n",
    "addEdge(G,board,0,3,'v',1,edgeLabels)\n",
    "addEdge(G,board,1,3,'v',1,edgeLabels)\n",
    "addEdge(G,board,2,0,'h',1,edgeLabels)\n",
    "addEdge(G,board,2,1,'h',1,edgeLabels)\n",
    "addEdge(G,board,2,2,'h',1,edgeLabels)\n",
    "addEdge(G,board,3,0,'h',1,edgeLabels)\n",
    "addEdge(G,board,3,1,'h',1,edgeLabels)\n",
    "addEdge(G,board,3,2,'h',1,edgeLabels)\n",
    "addEdge(G,board,0,2,'v',1,edgeLabels)\n",
    "addEdge(G,board,1,0,'v',1,edgeLabels)\n",
    "addEdge(G,board,1,1,'v',1,edgeLabels)\n",
    "addEdge(G,board,2,0,'v',1,edgeLabels)\n",
    "addEdge(G,board,2,1,'v',1,edgeLabels)\n",
    "addEdge(G,board,2,2,'v',1,edgeLabels)\n",
    "addEdge(G,board,1,2,'v',1,edgeLabels)\n",
    "addEdge(G,board,2,3,'v',1,edgeLabels)\n",
    "\n",
    "move = (alpha_beta_search(board,0))\n",
    "addEdge(G,board,move[\"move\"][1],move[\"move\"][2],move[\"move\"][0],0,edgeLabels)\n",
    "print(\"Alpha beta search picks \",move)\n",
    "\n",
    "drawBoard(G,edgeLabels)"
   ],
   "metadata": {
    "collapsed": false,
    "pycharm": {
     "name": "#%%\n"
    }
   }
  },
  {
   "cell_type": "markdown",
   "metadata": {},
   "source": [
    "How long does it take to make a move? Start with a smaller board make the board larger. What is the largest board you can solve?"
   ]
  },
  {
   "cell_type": "code",
   "execution_count": 15,
   "metadata": {},
   "outputs": [
    {
     "name": "stdout",
     "output_type": "stream",
     "text": [
      "Number of nodes searched: 537290\n",
      "Number of nodes searched: 136771\n",
      "Number of nodes searched: 45700\n",
      "Number of nodes searched: 10336\n",
      "Number of nodes searched: 4161\n",
      "Number of nodes searched: 846\n",
      "Number of nodes searched: 233\n",
      "Number of nodes searched: 93\n",
      "Number of nodes searched: 37\n",
      "Number of nodes searched: 16\n",
      "Number of nodes searched: 5\n",
      "Number of nodes searched: 2\n"
     ]
    },
    {
     "data": {
      "text/plain": "<Figure size 432x432 with 1 Axes>",
      "image/png": "[encoded data removed]"
     },
     "metadata": {},
     "output_type": "display_data"
    }
   ],
   "source": [
    "# Your code/ answer goes here.\n",
    "edgeLabels = {}\n",
    "board = {\n",
    "    'n': 3,  ### hoizontal dots\n",
    "    'm': 3   ### vertical dots\n",
    "}\n",
    "G = nx.grid_2d_graph(board['n'], board['m'])\n",
    "createEmptyBoard(G,edgeLabels)\n",
    "\n",
    "playMinimax(G,board,edgeLabels)\n",
    "\n",
    "drawBoard(G,edgeLabels)"
   ]
  },
  {
   "cell_type": "markdown",
   "metadata": {},
   "source": [
    "### Move ordering\n",
    "\n",
    "Starting the search with better moves will increase the efficiency of alpha-beta pruning. Describe and implement a simple move ordering strategy. Make a table that shows how the ordering strategies influence the time it takes to make a move?"
   ]
  },
  {
   "cell_type": "code",
   "execution_count": 16,
   "metadata": {},
   "outputs": [],
   "source": [
    "# Your code/ answer goes here.\n",
    "#\n",
    "# def orderActions(actions):\n",
    "#     return actions[]"
   ]
  },
  {
   "cell_type": "markdown",
   "metadata": {},
   "source": [
    "### The first few moves\n",
    "\n",
    "Start with an empty board. This is the worst case scenario for minimax search with alpha-beta pruning since it needs solve all possible games that can be played (minus some pruning) before making the decision. What can you do? "
   ]
  },
  {
   "cell_type": "code",
   "execution_count": 17,
   "metadata": {},
   "outputs": [],
   "source": [
    "# Your code/ answer goes here.\n",
    "# You could check the number of moves on the board and if it is zero, then you could just make a random move.\n",
    "# Or if there are only one or two moves made then you could hard code the first few moves\n"
   ]
  },
  {
   "cell_type": "markdown",
   "metadata": {},
   "source": [
    "### Playtime\n",
    "\n",
    "Let the Minimax Search agent play a random agent on a small board. Analyze wins, losses and draws."
   ]
  },
  {
   "cell_type": "code",
   "execution_count": 18,
   "metadata": {},
   "outputs": [
    {
     "name": "stdout",
     "output_type": "stream",
     "text": [
      "Number of nodes searched: 198566\n",
      "Number of nodes searched: 18866\n",
      "Number of nodes searched: 1544\n",
      "Number of nodes searched: 91\n",
      "Number of nodes searched: 14\n",
      "Number of nodes searched: 2\n",
      "Minimax agent wins\n",
      "3\n"
     ]
    },
    {
     "data": {
      "text/plain": "<Figure size 432x432 with 1 Axes>",
      "image/png": "[encoded data removed]"
     },
     "metadata": {},
     "output_type": "display_data"
    }
   ],
   "source": [
    "# Your code/ answer goes here.\n",
    "# Everytime this was ran, the minimax agent won\n",
    "edgeLabels = {}\n",
    "board = {\n",
    "    'n': 3,  ### hoizontal dots\n",
    "    'm': 3   ### vertical dots\n",
    "}\n",
    "G = nx.grid_2d_graph(board['n'], board['m'])\n",
    "createEmptyBoard(G,edgeLabels)\n",
    "while not terminal(board):\n",
    "            random_player(board, 1,edgeLabels,G)\n",
    "            if not terminal(board):\n",
    "                move=alpha_beta_search(board,0)\n",
    "                addEdge(G,board,move[\"move\"][1],move[\"move\"][2],move[\"move\"][0],0,edgeLabels)\n",
    "\n",
    "drawBoard(G,edgeLabels)\n",
    "winner, score = checkWin(board)\n",
    "if winner==0:\n",
    "    print(\"Minimax agent wins\")\n",
    "    print(score)"
   ]
  },
  {
   "cell_type": "markdown",
   "metadata": {},
   "source": [
    "## Task 4: Heuristic Alpha-Beta Tree Search [30 points] \n",
    "\n",
    "### Heuristic evaluation function\n",
    "\n",
    "Define and implement a heuristic evaluation function."
   ]
  },
  {
   "cell_type": "code",
   "execution_count": 23,
   "metadata": {},
   "outputs": [
    {
     "data": {
      "text/plain": "(-0.011111111111111112, False)"
     },
     "execution_count": 23,
     "metadata": {},
     "output_type": "execute_result"
    },
    {
     "data": {
      "text/plain": "<Figure size 432x432 with 1 Axes>",
      "image/png": "[encoded data removed]"
     },
     "metadata": {},
     "output_type": "display_data"
    }
   ],
   "source": [
    "# Your code/ answer goes here.\n",
    "def eval_fun(state,edges, player=0):\n",
    "    \"\"\"heuristic for utility of state. Returns score for a node:\n",
    "    1. For terminal states it returns the utility.\n",
    "    2. For non-terminal states, it calculates a weighted linear function using features of the state.\n",
    "    The features we look at are 2 in a row/col/diagonal where the 3rd square is empty. We assume that\n",
    "    the more of these positions we have, the higher the chance of winning.\n",
    "    We need to be careful that the utility of the heuristic stays between [-1,1].\n",
    "    Note that the largest possible number of these positions is 4. I weigh the count by 0.1,\n",
    "    guaranteeing that is in the needed range.\n",
    "\n",
    "    Function Returns: heuristic value, terminal?\"\"\"\n",
    "\n",
    "    # terminal state?\n",
    "\n",
    "    totalBoxes=(state['n']-1)*(state['m']-1)\n",
    "\n",
    "    #get number of squares player has completed and multiply by 0.1\n",
    "    #this is to ensure that the heuristic value is in the range [-1,1]\n",
    "\n",
    "    winner, score = (checkWin(state,edges))\n",
    "    if winner == player:\n",
    "        score= score*0.1\n",
    "    elif winner != player:\n",
    "        score= -score*0.1\n",
    "    else:\n",
    "        score= 0\n",
    "    #print(\"Winner is: Player \", winner, \"Score is: \", score/totalBoxes)\n",
    "    return score/totalBoxes, terminal(state)\n",
    "\n",
    "\n",
    "edgeLabels = {}\n",
    "board = {\n",
    "    'n': 4,  ### hoizontal dots\n",
    "    'm': 4   ### vertical dots\n",
    "}\n",
    "G = nx.grid_2d_graph(board['n'], board['m'])\n",
    "createEmptyBoard(G,edgeLabels)\n",
    "addEdge(G,board,0,0,'v',1,edgeLabels)\n",
    "addEdge(G,board,0,1,'v',1,edgeLabels)\n",
    "addEdge(G,board,0,0,'h',1,edgeLabels)\n",
    "addEdge(G,board,1,0,'h',1,edgeLabels)\n",
    "addEdge(G,board,0,1,'h',1,edgeLabels)\n",
    "addEdge(G,board,1,1,'h',1,edgeLabels)\n",
    "# addEdge(G,board,1,2,'h',1,edgeLabels)\n",
    "# addEdge(G,board,0,3,'v',1,edgeLabels)\n",
    "# addEdge(G,board,1,3,'v',1,edgeLabels)\n",
    "# addEdge(G,board,2,0,'h',1,edgeLabels)\n",
    "# addEdge(G,board,2,1,'h',1,edgeLabels)\n",
    "# addEdge(G,board,2,2,'h',1,edgeLabels)\n",
    "# addEdge(G,board,3,0,'h',1,edgeLabels)\n",
    "# addEdge(G,board,3,1,'h',1,edgeLabels)\n",
    "# addEdge(G,board,3,2,'h',1,edgeLabels)\n",
    "# addEdge(G,board,0,2,'v',0,edgeLabels)\n",
    "# addEdge(G,board,1,0,'v',1,edgeLabels)\n",
    "# addEdge(G,board,1,1,'v',1,edgeLabels)\n",
    "# addEdge(G,board,2,0,'v',1,edgeLabels)\n",
    "# addEdge(G,board,2,1,'v',1,edgeLabels)\n",
    "# addEdge(G,board,2,2,'v',1,edgeLabels)\n",
    "# addEdge(G,board,1,2,'v',1,edgeLabels)\n",
    "# addEdge(G,board,2,3,'v',1,edgeLabels)\n",
    "# addEdge(G,board,0,2,'h',1,edgeLabels)\n",
    "\n",
    "drawBoard(G,edgeLabels)\n",
    "eval_fun(board,edgeLabels)"
   ]
  },
  {
   "cell_type": "code",
   "execution_count": 24,
   "outputs": [
    {
     "name": "stdout",
     "output_type": "stream",
     "text": [
      "Number of nodes searched: 5\n",
      "Alpha beta search picks  {'move': ('v', 1, 2), 'value': -0.07777777777777778}\n"
     ]
    },
    {
     "data": {
      "text/plain": "<Figure size 432x432 with 1 Axes>",
      "image/png": "[encoded data removed]"
     },
     "metadata": {},
     "output_type": "display_data"
    }
   ],
   "source": [
    "# Minimax with alpha beta pruning and heuristic evaluation function\n",
    "def alpha_beta_search_heuristic(board,cutoff, player):\n",
    "    \"\"\"start the search.\"\"\"\n",
    "    global DEBUG, COUNT, edgeLabels\n",
    "    COUNT = 0\n",
    "    value, move = max_value_ab_h(board, player, -math.inf, +math.inf,edgeLabels, 0, cutoff)\n",
    "\n",
    "    if DEBUG >= 1: print(f\"Number of nodes searched: {COUNT}\")\n",
    "\n",
    "    return { \"move\": move, \"value\": value }\n",
    "\n",
    "def max_value_ab_h(state, player, alpha, beta,edges, depth, cutoff):\n",
    "    \"\"\"player's best move.\"\"\"\n",
    "    global DEBUG, COUNT, edgeLabels\n",
    "    COUNT += 1\n",
    "\n",
    "    # return utility of state is a terminal state\n",
    "    v,terminal = eval_fun(state, edges,player)\n",
    "    if((cutoff is not None and depth >= cutoff) or terminal):\n",
    "        if(terminal):\n",
    "            alpha, beta = v, v\n",
    "        if DEBUG >= 2: print(f\"stopped at {depth}: {state} term: {terminal} eval: {v} [{alpha}, {beta}]\" )\n",
    "        return v, None\n",
    "\n",
    "\n",
    "    v, move = -math.inf, None\n",
    "\n",
    "    # check all possible actions in the state, update alpha and return move with the largest value\n",
    "    for a in actions(state):\n",
    "\n",
    "        v2, a2 = min_value_ab_h(result(state, player, a), player, alpha, beta,resultEdgeLabels(player,a,edges), depth+1, cutoff)\n",
    "\n",
    "        if v2 > v:\n",
    "            v, move = v2, a\n",
    "            alpha = max(alpha, v)\n",
    "        if v >= beta: return v, move\n",
    "\n",
    "    return v, move\n",
    "\n",
    "def min_value_ab_h(state, player, alpha, beta,edges, depth, cutoff):\n",
    "\n",
    "    \"\"\"opponent's best response.\"\"\"\n",
    "    global DEBUG, COUNT, edgeLabels\n",
    "    COUNT += 1\n",
    "    # return utility of state is a terminal state\n",
    "    v,terminal = eval_fun(state, edges,player)\n",
    "    if((cutoff is not None and depth >= cutoff) or terminal):\n",
    "        if(terminal):\n",
    "            alpha, beta = v, v\n",
    "        if DEBUG >= 2: print(f\"stopped at {depth}: {state} term: {terminal} eval: {v} [{alpha}, {beta}]\" )\n",
    "        return v, None\n",
    "\n",
    "\n",
    "    v, move = +math.inf, None\n",
    "\n",
    "    # check all possible actions in the state, update beta and return move with the smallest value\n",
    "    for a in actions(state):\n",
    "        v2, a2 = max_value_ab_h(result(state, other(player), a), player, alpha, beta,resultEdgeLabels(other(player),a,edges), depth+1, cutoff)\n",
    "\n",
    "        if v2 < v:\n",
    "            v, move = v2, a\n",
    "            beta = min(beta, v)\n",
    "        if v <= alpha: return v, move\n",
    "\n",
    "    return v, move\n",
    "\n",
    "# Example 3: In this example it has the option to either pick the move that results in closing 2 boxes or the move that results in closing 1 box, and correctly picks the move that results in closing 2 boxes\n",
    "edgeLabels = {}\n",
    "board = {\n",
    "    'n': 4,  ### hoizontal dots\n",
    "    'm': 4   ### vertical dots\n",
    "}\n",
    "G = nx.grid_2d_graph(board['n'], board['m'])\n",
    "createEmptyBoard(G,edgeLabels)\n",
    "addEdge(G,board,0,0,'v',1,edgeLabels)\n",
    "addEdge(G,board,0,1,'v',1,edgeLabels)\n",
    "addEdge(G,board,0,0,'h',1,edgeLabels)\n",
    "addEdge(G,board,1,0,'h',1,edgeLabels)\n",
    "addEdge(G,board,0,1,'h',1,edgeLabels)\n",
    "addEdge(G,board,1,1,'h',1,edgeLabels)\n",
    "addEdge(G,board,0,2,'h',1,edgeLabels)\n",
    "addEdge(G,board,1,2,'h',1,edgeLabels)\n",
    "addEdge(G,board,0,3,'v',1,edgeLabels)\n",
    "addEdge(G,board,1,3,'v',1,edgeLabels)\n",
    "addEdge(G,board,2,0,'h',1,edgeLabels)\n",
    "addEdge(G,board,2,1,'h',1,edgeLabels)\n",
    "addEdge(G,board,2,2,'h',1,edgeLabels)\n",
    "addEdge(G,board,3,0,'h',1,edgeLabels)\n",
    "addEdge(G,board,3,1,'h',1,edgeLabels)\n",
    "addEdge(G,board,3,2,'h',1,edgeLabels)\n",
    "addEdge(G,board,0,2,'v',1,edgeLabels)\n",
    "addEdge(G,board,1,0,'v',1,edgeLabels)\n",
    "addEdge(G,board,1,1,'v',1,edgeLabels)\n",
    "addEdge(G,board,2,0,'v',1,edgeLabels)\n",
    "addEdge(G,board,2,1,'v',1,edgeLabels)\n",
    "addEdge(G,board,2,2,'v',1,edgeLabels)\n",
    "move = (alpha_beta_search_heuristic(board,4,0))\n",
    "addEdge(G,board,move[\"move\"][1],move[\"move\"][2],move[\"move\"][0],0,edgeLabels)\n",
    "print(\"Alpha beta search picks \",move)\n",
    "\n",
    "drawBoard(G,edgeLabels)"
   ],
   "metadata": {
    "collapsed": false,
    "pycharm": {
     "name": "#%%\n"
    }
   }
  },
  {
   "cell_type": "markdown",
   "metadata": {},
   "source": [
    "### Cutting off search \n",
    "\n",
    "Modify your Minimax Search with Alpha-Beta Pruning to cut off search at a specified depth and use the heuristic evaluation function. Experiment with different cutoff values."
   ]
  },
  {
   "cell_type": "code",
   "execution_count": 34,
   "metadata": {},
   "outputs": [
    {
     "name": "stdout",
     "output_type": "stream",
     "text": [
      "Number of nodes searched: 4773\n",
      "Alpha beta search picks  {'move': ('v', 0, 2), 'value': 0.0}\n",
      "Number of nodes searched: 150\n",
      "Alpha beta search picks  {'move': ('v', 1, 0), 'value': 0.03333333333333334}\n",
      "Number of nodes searched: 10\n",
      "Alpha beta search picks  {'move': ('v', 1, 2), 'value': 0.03333333333333334}\n"
     ]
    },
    {
     "data": {
      "text/plain": "<Figure size 432x432 with 1 Axes>",
      "image/png": "[encoded data removed]"
     },
     "metadata": {},
     "output_type": "display_data"
    }
   ],
   "source": [
    "# Your code/ answer goes here.\n",
    "edgeLabels = {}\n",
    "board = {\n",
    "    'n': 4,  ### hoizontal dots\n",
    "    'm': 4   ### vertical dots\n",
    "}\n",
    "G = nx.grid_2d_graph(board['n'], board['m'])\n",
    "createEmptyBoard(G,edgeLabels)\n",
    "addEdge(G,board,0,0,'v',1,edgeLabels)\n",
    "addEdge(G,board,0,1,'v',1,edgeLabels)\n",
    "addEdge(G,board,0,0,'h',1,edgeLabels)\n",
    "addEdge(G,board,1,0,'h',1,edgeLabels)\n",
    "addEdge(G,board,0,1,'h',1,edgeLabels)\n",
    "addEdge(G,board,1,1,'h',1,edgeLabels)\n",
    "addEdge(G,board,0,2,'h',1,edgeLabels)\n",
    "addEdge(G,board,1,2,'h',1,edgeLabels)\n",
    "addEdge(G,board,0,3,'v',1,edgeLabels)\n",
    "addEdge(G,board,1,3,'v',1,edgeLabels)\n",
    "addEdge(G,board,2,0,'h',1,edgeLabels)\n",
    "addEdge(G,board,2,1,'h',1,edgeLabels)\n",
    "\n",
    "\n",
    "move = (alpha_beta_search_heuristic(board,6,0))\n",
    "addEdge(G,board,move[\"move\"][1],move[\"move\"][2],move[\"move\"][0],0,edgeLabels)\n",
    "print(\"Alpha beta search picks \",move)\n",
    "\n",
    "move = (alpha_beta_search_heuristic(board,3,0))\n",
    "addEdge(G,board,move[\"move\"][1],move[\"move\"][2],move[\"move\"][0],0,edgeLabels)\n",
    "print(\"Alpha beta search picks \",move)\n",
    "\n",
    "addEdge(G,board,1,1,'v',1,edgeLabels)\n",
    "\n",
    "move = (alpha_beta_search_heuristic(board,1,0))\n",
    "addEdge(G,board,move[\"move\"][1],move[\"move\"][2],move[\"move\"][0],0,edgeLabels)\n",
    "print(\"Alpha beta search picks \",move)\n",
    "\n",
    "drawBoard(G,edgeLabels)\n"
   ]
  },
  {
   "cell_type": "markdown",
   "metadata": {},
   "source": [
    "Experiment with the same manually created boards as above to check if the agent spots winning opportunities."
   ]
  },
  {
   "cell_type": "code",
   "execution_count": 38,
   "metadata": {},
   "outputs": [
    {
     "name": "stdout",
     "output_type": "stream",
     "text": [
      "Number of nodes searched: 5\n",
      "Alpha beta search picks  {'move': ('v', 1, 2), 'value': -0.07777777777777778}\n"
     ]
    },
    {
     "data": {
      "text/plain": "<Figure size 432x432 with 1 Axes>",
      "image/png": "[encoded data removed]"
     },
     "metadata": {},
     "output_type": "display_data"
    }
   ],
   "source": [
    "# Your code/ answer goes here.\n",
    "# In this example you can see it still finds the right move even though it searches through less nodes\n",
    "edgeLabels = {}\n",
    "board = {\n",
    "    'n': 4,  ### hoizontal dots\n",
    "    'm': 4   ### vertical dots\n",
    "}\n",
    "G = nx.grid_2d_graph(board['n'], board['m'])\n",
    "createEmptyBoard(G,edgeLabels)\n",
    "addEdge(G,board,0,0,'v',1,edgeLabels)\n",
    "addEdge(G,board,0,1,'v',1,edgeLabels)\n",
    "addEdge(G,board,0,0,'h',1,edgeLabels)\n",
    "addEdge(G,board,1,0,'h',1,edgeLabels)\n",
    "addEdge(G,board,0,1,'h',1,edgeLabels)\n",
    "addEdge(G,board,1,1,'h',1,edgeLabels)\n",
    "addEdge(G,board,0,2,'h',1,edgeLabels)\n",
    "addEdge(G,board,1,2,'h',1,edgeLabels)\n",
    "addEdge(G,board,0,3,'v',1,edgeLabels)\n",
    "addEdge(G,board,1,3,'v',1,edgeLabels)\n",
    "addEdge(G,board,2,0,'h',1,edgeLabels)\n",
    "addEdge(G,board,2,1,'h',1,edgeLabels)\n",
    "addEdge(G,board,2,2,'h',1,edgeLabels)\n",
    "addEdge(G,board,3,0,'h',1,edgeLabels)\n",
    "addEdge(G,board,3,1,'h',1,edgeLabels)\n",
    "addEdge(G,board,3,2,'h',1,edgeLabels)\n",
    "addEdge(G,board,0,2,'v',1,edgeLabels)\n",
    "addEdge(G,board,1,0,'v',1,edgeLabels)\n",
    "addEdge(G,board,1,1,'v',1,edgeLabels)\n",
    "addEdge(G,board,2,0,'v',1,edgeLabels)\n",
    "addEdge(G,board,2,1,'v',1,edgeLabels)\n",
    "addEdge(G,board,2,2,'v',1,edgeLabels)\n",
    "move = (alpha_beta_search_heuristic(board,4,0))\n",
    "addEdge(G,board,move[\"move\"][1],move[\"move\"][2],move[\"move\"][0],0,edgeLabels)\n",
    "print(\"Alpha beta search picks \",move)\n",
    "\n",
    "drawBoard(G,edgeLabels)"
   ]
  },
  {
   "cell_type": "markdown",
   "metadata": {},
   "source": [
    "How long does it take to make a move? Start with a smaller board with 4 columns and make the board larger by adding columns."
   ]
  },
  {
   "cell_type": "code",
   "execution_count": 46,
   "metadata": {},
   "outputs": [
    {
     "name": "stdout",
     "output_type": "stream",
     "text": [
      "Number of nodes searched: 96835\n",
      "Alpha beta search picks  {'move': ('h', 0, 0), 'value': 0.0}\n"
     ]
    },
    {
     "data": {
      "text/plain": "<Figure size 432x432 with 1 Axes>",
      "image/png": "[encoded data removed]"
     },
     "metadata": {},
     "output_type": "display_data"
    }
   ],
   "source": [
    "# Your code/ answer goes here.\n",
    "# With a smaller cutoff, we are able to make move on even a 10x10 board in a relatively short amount of time.\n",
    "edgeLabels = {}\n",
    "board = {\n",
    "    'n': 10,  ### hoizontal dots\n",
    "    'm': 10   ### vertical dots\n",
    "}\n",
    "G = nx.grid_2d_graph(board['n'], board['m'])\n",
    "createEmptyBoard(G,edgeLabels)\n",
    "\n",
    "move = (alpha_beta_search_heuristic(board,4,0))\n",
    "addEdge(G,board,move[\"move\"][1],move[\"move\"][2],move[\"move\"][0],0,edgeLabels)\n",
    "print(\"Alpha beta search picks \",move)\n",
    "\n",
    "drawBoard(G,edgeLabels)"
   ]
  },
  {
   "cell_type": "markdown",
   "metadata": {},
   "source": [
    "### Playtime\n",
    "\n",
    "Let two heuristic search agents (different cutoff depth, different heuristic evaluation function) compete against each other on a reasonably sized board. Since there is no randomness, you only need to let them play once."
   ]
  },
  {
   "cell_type": "code",
   "execution_count": 53,
   "metadata": {},
   "outputs": [
    {
     "name": "stdout",
     "output_type": "stream",
     "text": [
      "Number of nodes searched: 1675\n",
      "Number of nodes searched: 1125704\n",
      "Number of nodes searched: 1966\n",
      "Number of nodes searched: 1215139\n",
      "Number of nodes searched: 2684\n",
      "Number of nodes searched: 674041\n",
      "Number of nodes searched: 929\n",
      "Number of nodes searched: 241512\n",
      "Number of nodes searched: 1628\n",
      "Number of nodes searched: 347509\n",
      "Number of nodes searched: 693\n",
      "Number of nodes searched: 82605\n",
      "Number of nodes searched: 635\n",
      "Number of nodes searched: 50324\n",
      "Number of nodes searched: 890\n",
      "Number of nodes searched: 5054\n",
      "Number of nodes searched: 251\n",
      "Number of nodes searched: 1024\n",
      "Number of nodes searched: 187\n",
      "Number of nodes searched: 86\n",
      "Number of nodes searched: 41\n",
      "Number of nodes searched: 12\n",
      "Number of nodes searched: 5\n",
      "Number of nodes searched: 2\n",
      "Higher cutoff wins\n",
      "5\n"
     ]
    },
    {
     "data": {
      "text/plain": "<Figure size 432x432 with 1 Axes>",
      "image/png": "[encoded data removed]"
     },
     "metadata": {},
     "output_type": "display_data"
    }
   ],
   "source": [
    "# Your code/ answer goes here.\n",
    "# In this example, the higher cutoff won the game\n",
    "edgeLabels = {}\n",
    "board = {\n",
    "    'n': 4,  ### hoizontal dots\n",
    "    'm': 4   ### vertical dots\n",
    "}\n",
    "G = nx.grid_2d_graph(board['n'], board['m'])\n",
    "createEmptyBoard(G,edgeLabels)\n",
    "\n",
    "\n",
    "def playMinimaxHeuristic(G,board,edgeLabels):\n",
    "    player = 0\n",
    "    while not terminal(board):\n",
    "        move = (alpha_beta_search_heuristic(board,4,player))\n",
    "        addEdge(G,board,move[\"move\"][1],move[\"move\"][2],move[\"move\"][0],0,edgeLabels)\n",
    "        if not terminal(board):\n",
    "            move = (alpha_beta_search_heuristic(board,8,player))\n",
    "            addEdge(G,board,move[\"move\"][1],move[\"move\"][2],move[\"move\"][0],1,edgeLabels)\n",
    "\n",
    "playMinimaxHeuristic(G,board,edgeLabels)\n",
    "drawBoard(G,edgeLabels)\n",
    "\n",
    "\n",
    "winner, score = checkWin(board,edgeLabels)\n",
    "if winner==0:\n",
    "    print(\"Lower cutoff wins wins\")\n",
    "    print(score)\n",
    "elif winner==1:\n",
    "    print(\"Higher cutoff wins\")\n",
    "    print(score)\n",
    "else:\n",
    "    print(\"Tie\")"
   ]
  },
  {
   "cell_type": "markdown",
   "metadata": {},
   "source": [
    "## Tournament task [+1 to 5% bonus on your course grade; will be assigned separately]\n",
    "\n",
    "Find another student and let your best agent play against the other student's best player. You are allowed to use any improvements you like as long as you code it yourself. We will set up a class tournament on Canvas. This tournament will continue after the submission deadline."
   ]
  },
  {
   "cell_type": "markdown",
   "metadata": {},
   "source": [
    "## Graduate student advanced task: Pure Monte Carlo Search and Best First Move [10 point]\n",
    "\n",
    "__Undergraduate students:__ This is a bonus task you can attempt if you like [+5 Bonus point].\n",
    "\n",
    "### Pure Monte Carlo Search\n",
    "\n",
    "Implement Pure Monte Carlo Search (see [tic-tac-toe-example](https://nbviewer.org/github/mhahsler/CS7320-AI/blob/master/Games/tictactoe_pure_monte_carlo_search.ipynb)) and investigate how this search performs on the test boards that you have used above. "
   ]
  },
  {
   "cell_type": "code",
   "execution_count": null,
   "metadata": {},
   "outputs": [],
   "source": [
    "# Your code/ answer goes here."
   ]
  },
  {
   "cell_type": "markdown",
   "metadata": {},
   "source": [
    "### Best First Move\n",
    "\n",
    "How would you determine what the best first move for a standard board ($5 \\times 5$) is? You can use Pure Monte Carlo Search or any algorithms that you have implemented above."
   ]
  },
  {
   "cell_type": "code",
   "execution_count": null,
   "metadata": {},
   "outputs": [],
   "source": [
    "# Your code/ answer goes here."
   ]
  }
 ],
 "metadata": {
  "kernelspec": {
   "display_name": "Python 3 (ipykernel)",
   "language": "python",
   "name": "python3"
  },
  "language_info": {
   "codemirror_mode": {
    "name": "ipython",
    "version": 3
   },
   "file_extension": ".py",
   "mimetype": "text/x-python",
   "name": "python",
   "nbconvert_exporter": "python",
   "pygments_lexer": "ipython3",
   "version": "3.9.5"
  }
 },
 "nbformat": 4,
 "nbformat_minor": 4
}