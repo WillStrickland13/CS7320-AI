{
 "cells": [
  {
   "cell_type": "markdown",
   "metadata": {},
   "source": [
    "# Adversarial Search: Playing Dots and Boxes\n",
    "\n",
    "\n",
    "## Instructions\n",
    "\n",
    "Total Points: Undegraduates 100, graduate students 110\n",
    "\n",
    "Complete this notebook and submit it. The notebook needs to be a complete project report with your implementation, documentation including a short discussion of how your implementation works and your design choices, and experimental results (e.g., tables and charts with simulation results) with a short discussion of what they mean. Use the provided notebook cells and insert additional code and markdown cells as needed.\n",
    "\n",
    "## Introduction\n",
    "\n",
    "You will implement different versions of agents that play the game Dots and Boxes:\n",
    "\n",
    "> \"Dots and Boxes is a pencil-and-paper game for two players. The game starts with an empty grid of dots. Usually two players take turns adding a single horizontal or vertical line between two unjoined adjacent dots. A player who completes the fourth side of a 1x1 box earns one point and takes another turn. A point is typically recorded by placing a mark that identifies the player in the box, such as an initial. The game ends when no more lines can be placed. The winner is the player with the most points. The board may be of any size grid.\" (see [Dots and Boxes on Wikipedia](https://en.wikipedia.org/wiki/Dots_and_Boxes))\n",
    "\n",
    "You can play Dots and Boxes [here](https://www.math.ucla.edu/~tom/Games/dots&boxes.html)."
   ]
  },
  {
   "cell_type": "markdown",
   "metadata": {},
   "source": [
    "## Task 1: Defining the Search Problem [10 point]\n",
    "\n",
    "Define the components of the search problem associated with this game:\n",
    "\n",
    "* Initial state\n",
    "* Actions\n",
    "* Transition model\n",
    "* Test for the terminal state\n",
    "* Utility for terminal states"
   ]
  },
  {
   "cell_type": "code",
   "execution_count": 68,
   "metadata": {},
   "outputs": [],
   "source": [
    "# Your code/answer goes here."
   ]
  },
  {
   "cell_type": "markdown",
   "metadata": {},
   "source": [
    "How big is the state space? Give an estimate and explain it."
   ]
  },
  {
   "cell_type": "code",
   "execution_count": 69,
   "metadata": {},
   "outputs": [],
   "source": [
    "# Your code/ answer goes here."
   ]
  },
  {
   "cell_type": "markdown",
   "metadata": {},
   "source": [
    "How big is the game tree that minimax search will go through? Give an estimate and explain it."
   ]
  },
  {
   "cell_type": "code",
   "execution_count": 70,
   "metadata": {},
   "outputs": [],
   "source": [
    "# Your code/ answer goes here."
   ]
  },
  {
   "cell_type": "markdown",
   "metadata": {},
   "source": [
    "## Task 2: Game Environment and Random Agent [30 point]\n",
    "\n",
    "You need to think about a data structure to represent the board meaning he placed lines and who finished what box. There are many options. Let's represent the board using a simple dictionary where `n` and `m` represents the number of dots horizontaly and vertically, respectively. Everybody needs to use the same representation so we can let agents play against each other later. "
   ]
  },
  {
   "cell_type": "code",
   "execution_count": 71,
   "metadata": {},
   "outputs": [],
   "source": [
    "board = {\n",
    "    'n': 4,  ### hoizontal dots\n",
    "    'm': 4   ### vertical dots\n",
    "}\n",
    "\n",
    "def draw_line(board, orientation, row, col):\n",
    "    \"\"\"\n",
    "    Place a line on an exiting board.\n",
    "       \n",
    "    Parameters\n",
    "    ----------\n",
    "    board: dict\n",
    "        the board\n",
    "    orientation: str\n",
    "        either 'h' or 'v' for horizontal or vertical\n",
    "    row, col: int\n",
    "        index of the starting dot for the line (starting with 0)\n",
    "    \n",
    "    \"\"\"\n",
    "    \n",
    "    if orientation not in ['h', 'v']:\n",
    "        return False\n",
    "        \n",
    "    if row < 0 or col < 0:\n",
    "        return False\n",
    "        \n",
    "    if row >= board['n'] + (orientation == 'v') or col >= board['m'] + (orientation == 'h'):\n",
    "        return False\n",
    "        \n",
    "    if (orientation, row, col) in board:\n",
    "        return False\n",
    "            \n",
    "    board[(orientation, row, col)] = True\n",
    "    return True\n",
    "    \n",
    "\n",
    "\n",
    "\n"
   ]
  },
  {
   "cell_type": "markdown",
   "metadata": {},
   "source": [
    "Write code to display the board. **Bonus point: Post your visualization code with an example output to the discussion board. The best visualization will earn you bonus participation points in this class.**"
   ]
  },
  {
   "cell_type": "code",
   "execution_count": 72,
   "metadata": {
    "scrolled": true
   },
   "outputs": [],
   "source": [
    "# Your code/ answer goes here.\n",
    "#https://stackoverflow.com/questions/35109590/how-to-graph-nodes-on-a-grid-in-networkx\n",
    "import matplotlib.pyplot as plt\n",
    "import networkx as nx\n",
    "edge_colors = ['blue', 'red']\n",
    "edgeLabels = {}\n",
    "# functions  to create empty visualization\n",
    "def drawBoard(G,edgeLabels):\n",
    "\n",
    "    colors = nx.get_edge_attributes(G,'color').values()\n",
    "    labels = nx.get_edge_attributes(G,'label').values()\n",
    "    pos = {(x,y):(y,-x) for x,y in G.nodes()}\n",
    "    nx.draw(G, pos=pos,\n",
    "        node_color='lightgreen',\n",
    "        edge_color=colors,\n",
    "        width=8,\n",
    "        with_labels=True,\n",
    "        node_size=600)\n",
    "    nx.draw_networkx_edge_labels(G, pos, edgeLabels)\n",
    "\n",
    "def createEmptyBoard(G,edgeLabels):\n",
    "    plt.figure(figsize=(6,6))\n",
    "    for edge in G.edges():\n",
    "        G.remove_edge(*edge)\n",
    "    # Set margins for the axes so that nodes aren't clipped\n",
    "    #drawBoard(G,edgeLabels)\n",
    "\n",
    "def addEdge(G,board, x,y, orientation,player,edgeLabels):\n",
    "    #set the colors of the edges\n",
    "    color=edge_colors[player]\n",
    "    label=player\n",
    "    draw_line(board, orientation, x,y)\n",
    "\n",
    "    #add the edge to the graph\n",
    "    if orientation == 'h':\n",
    "        G.add_edge((x,y), (x,y+1), color=color, label=label)\n",
    "        edgeLabels.update({((x,y),(x,y+1)):player})\n",
    "    else:\n",
    "        G.add_edge((x,y), (x+1,y), color=color, label=label)\n",
    "        edgeLabels.update({((x,y),(x+1,y)):player})\n",
    "    #drawBoard(G,edgeLabels)\n",
    "    return board\n",
    "\n",
    "def removeEdge(G,board, x,y, orientation,edgeLabels):\n",
    "    del board[(orientation, x,y)]\n",
    "    #add the edge to the graph\n",
    "    if orientation == 'h':\n",
    "        G.remove_edge((x,y), (x,y+1))\n",
    "        edgeLabels.update({((x,y),(x,y+1)):\"\"})\n",
    "    else:\n",
    "        G.remove_edge((x,y), (x+1,y))\n",
    "        edgeLabels.update({((x,y),(x+1,y)):\"\"})\n",
    "    #drawBoard(G,edgeLabels)\n",
    "    return board\n",
    "# G = nx.grid_2d_graph(board['n'], board['m'])\n",
    "# createEmptyBoard(G,edgeLabels)\n",
    "# addEdge(G,board, 0,0, 'h',1,edgeLabels)\n",
    "# removeEdge(G,board, 0,0, 'h',edgeLabels)\n",
    "# drawBoard(G,edgeLabels)\n",
    "# addEdge(G, 0,0, 'v',1)\n",
    "#\n",
    "#\n",
    "# addEdge(G, 0,1, 'v',1)\n",
    "# addEdge(G, 1,0, 'h',0)\n",
    "#\n",
    "# addEdge(G,2,2, 'h',0)\n",
    "# addEdge(G,2,2, 'v',1)\n",
    "# addEdge(G,2,3, 'v',1)\n",
    "# addEdge(G,3,2, 'h',0)\n",
    "# print(board)\n"
   ]
  },
  {
   "cell_type": "markdown",
   "metadata": {},
   "source": [
    "Implement helper functions for:\n",
    "\n",
    "* The transition model $result(s, a)$.\n",
    "* The utility function $utility(s)$.\n",
    "* Check for terminal states $terminal(s)$.\n",
    "* A check for available actions in each state $actions(s)$.\n",
    "\n",
    "Make sure that all these functions work with boards of different sizes (number of columns and rows as stored in the board)."
   ]
  },
  {
   "cell_type": "code",
   "execution_count": 73,
   "metadata": {},
   "outputs": [],
   "source": [
    "# Your code/ answer goes here.\n",
    "def result(board, draw_line):\n",
    "    return board\n",
    "\n",
    "\n",
    "\n",
    "def utility(board):\n",
    "    #check who has more boxes and award that player a point\n",
    "    player1=0\n",
    "    player0=0\n",
    "    #print(board)\n",
    "    for i in range(board['n']-1):\n",
    "        for j in range(board['m']-1):\n",
    "            #if the all sides of the box exist and are true\n",
    "            if (('h', i, j) in board and board['h',i,j]==True)\\\n",
    "                    and (('h', i+1, j) in board and board['h',i+1,j]==True) \\\n",
    "                    and (('v', i, j) in board and board['v',i,j]==True)\\\n",
    "                    and (('v', i, j+1) in board and board['v',i,j+1]==True):\n",
    "\n",
    "                # then determine which player completed the box by checking which was most recently\n",
    "                # added to the list of moves\n",
    "                mostRecentMove = list(board.keys()).index(('h', i, j))\n",
    "                if(list(board.keys()).index(('h', i+1, j)) > mostRecentMove):\n",
    "                    mostRecentMove= list(board.keys()).index(('h', i+1, j))\n",
    "                if(list(board.keys()).index(('v', i, j+1)) > mostRecentMove):\n",
    "                    mostRecentMove= list(board.keys()).index(('v', i, j+1))\n",
    "                if(list(board.keys()).index(('v', i, j)) > mostRecentMove):\n",
    "                    mostRecentMove= list(board.keys()).index(('v', i, j))\n",
    "\n",
    "                #set the most recent move to the most recent move index\n",
    "                value_at_index=list(board.keys())[mostRecentMove]\n",
    "\n",
    "                #determine the the player whos number is on the edge that completed the box\n",
    "                if(value_at_index[0]=='h'):\n",
    "                    player = (edgeLabels[(value_at_index[1],value_at_index[2]),(value_at_index[1],value_at_index[2]+1)])\n",
    "                if(value_at_index[0]=='v'):\n",
    "                    player = (edgeLabels[(value_at_index[1],value_at_index[2]),(value_at_index[1]+1,value_at_index[2])])\n",
    "\n",
    "                #increment the player that completed the box\n",
    "                if(player==1):\n",
    "                    player1+=1\n",
    "                else:\n",
    "                    player0+=1\n",
    "    #if player1 has more boxes, return 1\n",
    "    if player1>player0:\n",
    "        return 1\n",
    "    #if player0 has more boxes, return 0\n",
    "    elif player0>player1:\n",
    "        return 0\n",
    "    #if they are equal, return -1\n",
    "    else:\n",
    "        return -1\n",
    "def actions(board):\n",
    "    #initialize list of actions to none\n",
    "    acts=[]\n",
    "\n",
    "    #check if there are any available actions\n",
    "    for i in range (board['n']-1):\n",
    "        for j in range (board['m']-1):\n",
    "            orientation = 'h'\n",
    "            if (orientation, i, j) not in board:\n",
    "                acts.append((orientation, i, j))\n",
    "            orientation = 'v'\n",
    "            if (orientation, i, j) not in board:\n",
    "                acts.append((orientation, i, j))\n",
    "\n",
    "    #Add bottom and right side of board to possible actions\n",
    "    for i in range(board['n']-1):\n",
    "        if(\"v\",i,board['m']-1) not in board:\n",
    "            acts.append((\"v\",i,board['m']-1))\n",
    "    for i in range(board['m']-1):\n",
    "        if(\"h\",board['n']-1,i) not in board:\n",
    "            acts.append((\"h\",board['n']-1,i))\n",
    "    return acts\n",
    "\n",
    "\n",
    "\n",
    "def terminal(board):\n",
    "    #if there are no more actions, then the game is over\n",
    "    if actions(board)==[]:\n",
    "        return True\n",
    "    else:\n",
    "        return False\n",
    "\n",
    "#print(actions(board))\n",
    "\n",
    "\n",
    "\n",
    "#utility(board)"
   ]
  },
  {
   "cell_type": "markdown",
   "metadata": {},
   "source": [
    "Implement an agent that plays randomly. Make sure the agent function receives as the percept the board and returns a valid action. Use an agent function definition with the following signature (arguments):\n",
    "\n",
    "`def random_player(board, player = None): ...`\n",
    "\n",
    "The argument `player` is used for agents that do not store what side they are playing. The value passed on bt yhe environment should be 1 ot -1 for playerred and yellow, respectively.  See [Experiments section for tic-tac-toe](https://nbviewer.org/github/mhahsler/CS7320-AI/blob/master/Games/tictactoe_and_or_tree_search.ipynb#Experiments) for an example."
   ]
  },
  {
   "cell_type": "code",
   "execution_count": 74,
   "outputs": [
    {
     "data": {
      "text/plain": "<Figure size 432x432 with 0 Axes>"
     },
     "metadata": {},
     "output_type": "display_data"
    }
   ],
   "source": [
    "# Your code/ answer goes here.\n",
    "import random\n",
    "\n",
    "def random_player(board, player,edgeLabels):\n",
    "    #load all possible actions into a list\n",
    "    acts=actions(board)\n",
    "\n",
    "    #randomly choose an action from the list\n",
    "    act=acts[random.randint(0,len(acts)-1)]\n",
    "\n",
    "    #execute and add the random edge to the board\n",
    "    addEdge(G2,board, act[1],act[2], act[0],player,edgeLabels)\n",
    "\n",
    "\n",
    "#reset the colors and labels on the visualization\n",
    "edge_colors = ['blue', 'red']\n",
    "edgeLabels = {}\n",
    "\n",
    "#set the board height and width\n",
    "board2 = {\n",
    "    'n': 6,  ### hoizontal dots\n",
    "    'm': 6   ### vertical dots\n",
    "}\n",
    "\n",
    "#create empty visualization\n",
    "G2 = nx.grid_2d_graph(board2['n'], board2['m'])\n",
    "createEmptyBoard(G2,edgeLabels)\n",
    "\n",
    "#loop while not terminal\n",
    "while not terminal(board2):\n",
    "    random_player(board2, 1,edgeLabels)\n",
    "    if not terminal(board2):\n",
    "        random_player(board2, 0,edgeLabels)\n",
    "\n",
    "#print the winner\n",
    "utility(board2)\n",
    "\n",
    "#clear the visualization\n",
    "G2.clear()"
   ],
   "metadata": {
    "collapsed": false,
    "pycharm": {
     "name": "#%%\n"
    }
   }
  },
  {
   "cell_type": "markdown",
   "source": [
    "Let two random agents play against each other 1000 times. Look at the [Experiments section for tic-tac-toe](https://nbviewer.org/github/mhahsler/CS7320-AI/blob/master/Games/tictactoe_and_or_tree_search.ipynb#Experiments) to see how the environment uses the agent functions to play against each other.\n",
    "\n",
    "How often does each player win? Is the result expected?"
   ],
   "metadata": {
    "collapsed": false
   }
  },
  {
   "cell_type": "markdown",
   "source": [
    "* After testing on various board sizes, I found that with a small board, with 9 possible boxes, the player who goes first won around 90% of the time. However, with a larger board, with 36 possible boxes, each player wins about 50% of the time."
   ],
   "metadata": {
    "collapsed": false
   }
  },
  {
   "cell_type": "code",
   "execution_count": 75,
   "metadata": {
    "tags": []
   },
   "outputs": [
    {
     "name": "stdout",
     "output_type": "stream",
     "text": [
      "Player 1 wins  525\n",
      "Player 0 wins  475\n",
      "Ties  0\n"
     ]
    }
   ],
   "source": [
    "# Your code/ answer goes here.\n",
    "def play(limit):\n",
    "    player1wins=0\n",
    "    player0wins=0\n",
    "    ties=0\n",
    "    for i in range(limit):\n",
    "        edgeLabels = {}\n",
    "        board2 = {\n",
    "            'n': 6,  ### hoizontal dots\n",
    "            'm': 6   ### vertical dots\n",
    "        }\n",
    "        G2 = nx.grid_2d_graph(board2['n'], board2['m'])\n",
    "        createEmptyBoard(G2,edgeLabels)\n",
    "\n",
    "        #loop until terminal state\n",
    "        while not terminal(board2):\n",
    "            random_player(board2, 1,edgeLabels)\n",
    "            if not terminal(board2):\n",
    "                random_player(board2, 0,edgeLabels)\n",
    "        #if winner is player 1, increment player1wins\n",
    "        if utility(board2)==1:\n",
    "            player1wins+=1\n",
    "        #if winner is player 0, increment player0wins\n",
    "        elif utility(board2)==0:\n",
    "            player0wins+=1\n",
    "        #if utility is tie, increment ties\n",
    "        else:\n",
    "            ties+=1\n",
    "\n",
    "        #clear graph for next iteration\n",
    "        G2.clear()\n",
    "\n",
    "        #close the graph\n",
    "        plt.close()\n",
    "\n",
    "    #Print the results\n",
    "    print(\"Player 1 wins \",player1wins)\n",
    "    print(\"Player 0 wins \",player0wins)\n",
    "    print(\"Ties \",ties)\n",
    "\n",
    "\n",
    "play(1000)\n"
   ]
  },
  {
   "cell_type": "markdown",
   "metadata": {},
   "source": [
    "## Task 3: Minimax Search with Alpha-Beta Pruning [30 points]\n",
    "\n",
    "### Implement the search starting.\n",
    "\n",
    "Implement the search starting from a given board and specifying the player and put it into an agent function.\n",
    "You can use code from the [tic-tac-toe example](https://nbviewer.org/github/mhahsler/CS7320-AI/blob/master/Games/tictactoe_alpha_beta_tree_search.ipynb).\n",
    "\n",
    "__Notes:__ \n",
    "* Make sure that all your agent functions have a signature consistent with the random agent above.\n",
    "* The search space for larger board may be too large. You can experiment with smaller boards."
   ]
  },
  {
   "cell_type": "code",
   "execution_count": 107,
   "metadata": {},
   "outputs": [
    {
     "name": "stdout",
     "output_type": "stream",
     "text": [
      "Number of nodes searched: 1831\n",
      "Number of nodes searched: 1771\n",
      "Number of nodes searched: 1712\n",
      "Number of nodes searched: 1654\n",
      "Number of nodes searched: 1597\n",
      "Number of nodes searched: 1541\n",
      "Number of nodes searched: 1486\n",
      "Number of nodes searched: 1432\n",
      "Number of nodes searched: 1379\n",
      "Number of nodes searched: 1327\n",
      "Number of nodes searched: 1276\n",
      "Number of nodes searched: 1226\n",
      "Number of nodes searched: 1177\n",
      "Number of nodes searched: 1129\n",
      "Number of nodes searched: 1082\n",
      "Number of nodes searched: 1036\n",
      "Number of nodes searched: 991\n",
      "Number of nodes searched: 947\n",
      "Number of nodes searched: 904\n",
      "Number of nodes searched: 862\n",
      "Number of nodes searched: 821\n",
      "Number of nodes searched: 781\n",
      "Number of nodes searched: 742\n",
      "Number of nodes searched: 704\n",
      "Number of nodes searched: 667\n",
      "Number of nodes searched: 631\n",
      "Number of nodes searched: 596\n",
      "Number of nodes searched: 562\n",
      "Number of nodes searched: 529\n",
      "Number of nodes searched: 497\n",
      "Number of nodes searched: 466\n",
      "Number of nodes searched: 436\n",
      "Number of nodes searched: 407\n",
      "Number of nodes searched: 379\n",
      "Number of nodes searched: 352\n",
      "Number of nodes searched: 326\n",
      "Number of nodes searched: 301\n",
      "Number of nodes searched: 277\n",
      "Number of nodes searched: 254\n",
      "Number of nodes searched: 232\n",
      "Number of nodes searched: 211\n",
      "Number of nodes searched: 191\n",
      "Number of nodes searched: 172\n",
      "Number of nodes searched: 154\n",
      "Number of nodes searched: 137\n",
      "Number of nodes searched: 121\n",
      "Number of nodes searched: 106\n",
      "Number of nodes searched: 92\n",
      "Number of nodes searched: 79\n",
      "Number of nodes searched: 67\n",
      "Number of nodes searched: 56\n",
      "Number of nodes searched: 46\n",
      "Number of nodes searched: 37\n",
      "Number of nodes searched: 29\n",
      "Number of nodes searched: 22\n",
      "Number of nodes searched: 16\n",
      "Number of nodes searched: 11\n",
      "Number of nodes searched: 7\n",
      "Number of nodes searched: 4\n",
      "Number of nodes searched: 2\n"
     ]
    },
    {
     "data": {
      "text/plain": "<Figure size 432x432 with 1 Axes>",
      "image/png": "[encoded data removed]"
     },
     "metadata": {},
     "output_type": "display_data"
    }
   ],
   "source": [
    "import math\n",
    "import numpy as np\n",
    "# Your code/ answer goes here.\n",
    "#\n",
    "# COUNT=0\n",
    "# def minimax(G,board, depth, isMax,edgeLabels):\n",
    "#     score = utility(board)\n",
    "#\n",
    "#     # If Maximizer has won the game return his/her\n",
    "#     # evaluated score\n",
    "#     if (score == 1) :\n",
    "#         #print(\"Maximizer has won the game\")\n",
    "#         return score\n",
    "#\n",
    "#     # If Minimizer has won the game return his/her\n",
    "#     # evaluated score\n",
    "#     if (score == 0) :\n",
    "#         #print(\"Minimizer has won the game\")\n",
    "#         return score\n",
    "#\n",
    "#     # If there are no more moves and no winner then\n",
    "#     # it is a tie\n",
    "#     if (utility(board) == -1) :\n",
    "#         #print(\"Game is a tie\")\n",
    "#         return 0\n",
    "#\n",
    "#     # If this maximizer's move\n",
    "#     if (isMax) :\n",
    "#         best = -1000\n",
    "#\n",
    "#         # Traverse all cells\n",
    "#     empty=actions(board)\n",
    "#     for e in empty :\n",
    "#         i=e[1]\n",
    "#         j=e[2]\n",
    "#         orientation=e[0]\n",
    "#         if (orientation, i, j) not in board:\n",
    "#             addEdge(G,board,i,j,orientation,1,edgeLabels)\n",
    "#\n",
    "#             # Call minimax recursively and choose\n",
    "#             # the maximum value\n",
    "#             best = max( best, minimax(board,\n",
    "#                                     depth + 1,\n",
    "#                                     not isMax) )\n",
    "#\n",
    "#                     # Undo the move\n",
    "#             removeEdge(G,board,i,j,orientation,edgeLabels)\n",
    "#         return best\n",
    "#\n",
    "#     # If this minimizer's move\n",
    "#     else :\n",
    "#         best = 1000\n",
    "#\n",
    "#         # Traverse all cells\n",
    "#     empty = actions(board)\n",
    "#     for e in empty :\n",
    "#         i=e[1]\n",
    "#         j=e[2]\n",
    "#         orientation=e[0]\n",
    "#         addEdge(G,board,i,j,orientation,1,edgeLabels)\n",
    "#\n",
    "#         # Call minimax recursively and choose\n",
    "#         # the maximum value\n",
    "#         best = min( best, minimax(board,\n",
    "#                                 depth + 1,\n",
    "#                                 not isMax))\n",
    "#\n",
    "#                     # Undo the move\n",
    "#         removeEdge(G,board,i,j,orientation,edgeLabels)\n",
    "#         empty=actions(board)\n",
    "#     return best\n",
    "#\n",
    "# # This will return the best possible move for the player\n",
    "# def findBestMove(board,G) :\n",
    "#     bestVal = -1000\n",
    "#     bestMove = (-1, -1)\n",
    "#\n",
    "#     # Traverse all cells, evaluate minimax function for\n",
    "#     # all empty cells. And return the cell with optimal\n",
    "#     # value.\n",
    "#     empty = actions(board)\n",
    "#\n",
    "#     for e in empty:\n",
    "#         i=e[1]\n",
    "#         j=e[2]\n",
    "#         orientation=e[0]\n",
    "#         addEdge(G,board,i,j,orientation,1,edgeLabels)\n",
    "#\n",
    "#         moveVal = minimax(G,board,0,False,edgeLabels)\n",
    "#\n",
    "#         removeEdge(G,board,i,j,orientation,edgeLabels)\n",
    "#\n",
    "#         if(moveVal > bestVal) :\n",
    "#             bestMove = (orientation,i, j)\n",
    "#             bestVal = moveVal\n",
    "#\n",
    "#     print(\"The value of the best Move is :\", bestVal)\n",
    "#\n",
    "#     print(bestMove)\n",
    "#     return bestMove\n",
    "#\n",
    "# edgeLabels = {}\n",
    "# board = {\n",
    "#     'n': 8,  ### hoizontal dots\n",
    "#     'm': 8   ### vertical dots\n",
    "# }\n",
    "# G = nx.grid_2d_graph(board['n'], board['m'])\n",
    "# createEmptyBoard(G,edgeLabels)\n",
    "#\n",
    "# while not terminal(board):\n",
    "#     bestMove = findBestMove(board,G)\n",
    "#     addEdge(G,board,bestMove[1],bestMove[2],bestMove[0],0,edgeLabels)\n",
    "#     if not terminal(board):\n",
    "#         bestMove = findBestMove(board,G)\n",
    "#         addEdge(G,board,bestMove[1],bestMove[2],bestMove[0],1,edgeLabels)\n",
    "# print(bestMove)\n",
    "# drawBoard(G,edgeLabels)\n",
    "# print(\"player \",utility(board),\" wins\")\n",
    "\n",
    "\n",
    "\n",
    "#NEW ATTEMPT\n",
    "def other(player):\n",
    "    if player == 0: return 1\n",
    "    else: return 0\n",
    "\n",
    "\n",
    "\n",
    "DEBUG = 1 # 1 ... count nodes, 2 ... debug each node\n",
    "COUNT = 0\n",
    "\n",
    "def minimax_search(G,board, edgeLabels,player=0):\n",
    "    temp = board.copy()\n",
    "    tempGraph = G.copy()\n",
    "    \"\"\"start the search.\"\"\"\n",
    "    global DEBUG, COUNT\n",
    "    COUNT = 0\n",
    "\n",
    "    value, move = max_value(tempGraph,temp, player, edgeLabels)\n",
    "    if DEBUG >= 1: print(f\"Number of nodes searched: {COUNT}\")\n",
    "\n",
    "    return { \"move\": move, \"value\": value}\n",
    "\n",
    "def max_value(G,board, player,edgeLabels):\n",
    "    \"\"\"player's best move.\"\"\"\n",
    "    global DEBUG, COUNT\n",
    "    COUNT += 1\n",
    "\n",
    "    # return utility of state if it is a terminal state\n",
    "    if terminal(board):\n",
    "        return utility(board),None\n",
    "    v, move = -math.inf, None\n",
    "    # check all possible actions in the state, return move with the largest value\n",
    "    for a in actions(board):\n",
    "        addEdge(G,board,a[1],a[2],a[0],player,edgeLabels)\n",
    "        v2, a2 = min_value(G,board, player,edgeLabels)\n",
    "        if v2 > v:\n",
    "            v, move = v2, a\n",
    "\n",
    "    if DEBUG >= 2: print(\"max out: \" + str(board) + str([v, move]) )\n",
    "    return v, move\n",
    "\n",
    "def min_value(G,board, player,edgeLabels):\n",
    "    \"\"\"opponent's best response.\"\"\"\n",
    "    global DEBUG, COUNT\n",
    "    COUNT += 1\n",
    "\n",
    "    # return utility of state if it is a terminal state\n",
    "    if terminal(board):\n",
    "        return utility(board),None\n",
    "    v, move = -math.inf, None\n",
    "\n",
    "    # check all possible actions in the state, return move with the smallest value\n",
    "    for a in actions(board):\n",
    "\n",
    "        addEdge(G,board,a[1],a[2],a[0],player,edgeLabels)\n",
    "        v2, a2 = max_value(G,board, other(player),edgeLabels)\n",
    "\n",
    "        if v2 < v:\n",
    "            v, move = v2, a\n",
    "    if DEBUG >= 2: print(\"min out: \" + str(board) + str([v, move]) )\n",
    "    return v, move\n",
    "\n",
    "\n",
    "def playMinimax(G,board,edgeLabels):\n",
    "    player = 0\n",
    "    while not terminal(board):\n",
    "        move = (minimax_search(G,board,edgeLabels))\n",
    "        addEdge(G,board,move[\"move\"][1],move[\"move\"][2],move[\"move\"][0],player,edgeLabels)\n",
    "        player= other(player)\n",
    "# global variables\n",
    "edgeLabels = {}\n",
    "board = {\n",
    "    'n': 6,  ### hoizontal dots\n",
    "    'm': 6   ### vertical dots\n",
    "}\n",
    "G = nx.grid_2d_graph(board['n'], board['m'])\n",
    "createEmptyBoard(G,edgeLabels)\n",
    "addEdge(G,board,0,0,0,0,edgeLabels)\n",
    "\n",
    "playMinimax(G,board,edgeLabels)\n",
    "drawBoard(G,edgeLabels)"
   ]
  },
  {
   "cell_type": "markdown",
   "metadata": {},
   "source": [
    "Experiment with some manually created boards (at least 5) to check if the agent spots winning opportunities."
   ]
  },
  {
   "cell_type": "code",
   "execution_count": 77,
   "metadata": {},
   "outputs": [],
   "source": [
    "# Your code/ answer goes here."
   ]
  },
  {
   "cell_type": "markdown",
   "metadata": {},
   "source": [
    "How long does it take to make a move? Start with a smaller board make the board larger. What is the largest board you can solve?"
   ]
  },
  {
   "cell_type": "code",
   "execution_count": 78,
   "metadata": {},
   "outputs": [],
   "source": [
    "# Your code/ answer goes here."
   ]
  },
  {
   "cell_type": "markdown",
   "metadata": {},
   "source": [
    "### Move ordering\n",
    "\n",
    "Starting the search with better moves will increase the efficiency of alpha-beta pruning. Describe and implement a simple move ordering strategy. Make a table that shows how the ordering strategies influence the time it takes to make a move?"
   ]
  },
  {
   "cell_type": "code",
   "execution_count": 79,
   "metadata": {},
   "outputs": [],
   "source": [
    "# Your code/ answer goes here."
   ]
  },
  {
   "cell_type": "markdown",
   "metadata": {},
   "source": [
    "### The first few moves\n",
    "\n",
    "Start with an empty board. This is the worst case scenario for minimax search with alpha-beta pruning since it needs solve all possible games that can be played (minus some pruning) before making the decision. What can you do? "
   ]
  },
  {
   "cell_type": "code",
   "execution_count": 80,
   "metadata": {},
   "outputs": [],
   "source": [
    "# Your code/ answer goes here."
   ]
  },
  {
   "cell_type": "markdown",
   "metadata": {},
   "source": [
    "### Playtime\n",
    "\n",
    "Let the Minimax Search agent play a random agent on a small board. Analyze wins, losses and draws."
   ]
  },
  {
   "cell_type": "code",
   "execution_count": 81,
   "metadata": {},
   "outputs": [],
   "source": [
    "# Your code/ answer goes here."
   ]
  },
  {
   "cell_type": "markdown",
   "metadata": {},
   "source": [
    "## Task 4: Heuristic Alpha-Beta Tree Search [30 points] \n",
    "\n",
    "### Heuristic evaluation function\n",
    "\n",
    "Define and implement a heuristic evaluation function."
   ]
  },
  {
   "cell_type": "code",
   "execution_count": 82,
   "metadata": {},
   "outputs": [],
   "source": [
    "# Your code/ answer goes here."
   ]
  },
  {
   "cell_type": "markdown",
   "metadata": {},
   "source": [
    "### Cutting off search \n",
    "\n",
    "Modify your Minimax Search with Alpha-Beta Pruning to cut off search at a specified depth and use the heuristic evaluation function. Experiment with different cutoff values."
   ]
  },
  {
   "cell_type": "code",
   "execution_count": 83,
   "metadata": {},
   "outputs": [],
   "source": [
    "# Your code/ answer goes here."
   ]
  },
  {
   "cell_type": "markdown",
   "metadata": {},
   "source": [
    "Experiment with the same manually created boards as above to check if the agent spots winning opportunities."
   ]
  },
  {
   "cell_type": "code",
   "execution_count": 84,
   "metadata": {},
   "outputs": [],
   "source": [
    "# Your code/ answer goes here."
   ]
  },
  {
   "cell_type": "markdown",
   "metadata": {},
   "source": [
    "How long does it take to make a move? Start with a smaller board with 4 columns and make the board larger by adding columns."
   ]
  },
  {
   "cell_type": "code",
   "execution_count": 85,
   "metadata": {},
   "outputs": [],
   "source": [
    "# Your code/ answer goes here."
   ]
  },
  {
   "cell_type": "markdown",
   "metadata": {},
   "source": [
    "### Playtime\n",
    "\n",
    "Let two heuristic search agents (different cutoff depth, different heuristic evaluation function) compete against each other on a reasonably sized board. Since there is no randomness, you only need to let them play once."
   ]
  },
  {
   "cell_type": "code",
   "execution_count": 86,
   "metadata": {},
   "outputs": [],
   "source": [
    "# Your code/ answer goes here."
   ]
  },
  {
   "cell_type": "markdown",
   "metadata": {},
   "source": [
    "## Tournament task [+1 to 5% bonus on your course grade; will be assigned separately]\n",
    "\n",
    "Find another student and let your best agent play against the other student's best player. You are allowed to use any improvements you like as long as you code it yourself. We will set up a class tournament on Canvas. This tournament will continue after the submission deadline."
   ]
  },
  {
   "cell_type": "markdown",
   "metadata": {},
   "source": [
    "## Graduate student advanced task: Pure Monte Carlo Search and Best First Move [10 point]\n",
    "\n",
    "__Undergraduate students:__ This is a bonus task you can attempt if you like [+5 Bonus point].\n",
    "\n",
    "### Pure Monte Carlo Search\n",
    "\n",
    "Implement Pure Monte Carlo Search (see [tic-tac-toe-example](https://nbviewer.org/github/mhahsler/CS7320-AI/blob/master/Games/tictactoe_pure_monte_carlo_search.ipynb)) and investigate how this search performs on the test boards that you have used above. "
   ]
  },
  {
   "cell_type": "code",
   "execution_count": 87,
   "metadata": {},
   "outputs": [],
   "source": [
    "# Your code/ answer goes here."
   ]
  },
  {
   "cell_type": "markdown",
   "metadata": {},
   "source": [
    "### Best First Move\n",
    "\n",
    "How would you determine what the best first move for a standard board ($5 \\times 5$) is? You can use Pure Monte Carlo Search or any algorithms that you have implemented above."
   ]
  },
  {
   "cell_type": "code",
   "execution_count": 88,
   "metadata": {},
   "outputs": [],
   "source": [
    "# Your code/ answer goes here."
   ]
  }
 ],
 "metadata": {
  "kernelspec": {
   "display_name": "Python 3 (ipykernel)",
   "language": "python",
   "name": "python3"
  },
  "language_info": {
   "codemirror_mode": {
    "name": "ipython",
    "version": 3
   },
   "file_extension": ".py",
   "mimetype": "text/x-python",
   "name": "python",
   "nbconvert_exporter": "python",
   "pygments_lexer": "ipython3",
   "version": "3.9.5"
  }
 },
 "nbformat": 4,
 "nbformat_minor": 4
}