{
 "cells": [
  {
   "cell_type": "markdown",
   "metadata": {},
   "source": [
    "# Search: Solving a Maze Using a Goal-based Agent\n",
    "\n",
    "## Instructions\n",
    "\n",
    "Total Points: Undergrads 100 / Graduate students 110\n",
    "\n",
    "Complete this notebook. Use the provided notebook cells and insert additional code and markdown cells as needed. Submit the completely rendered notebook as a PDF file. \n",
    "\n",
    "\n",
    "## Introduction\n",
    "\n",
    "The agent has a map of the maze it is in and the environment is assumed to be **deterministic, discrete, and known.** The agent must use the map to plan a path through the maze from the starting location $S$ to the goal location $G$.  This is a planing exercise for a goal-based agent, so you do not need to implement an environment, just use the map to search for a path. Once the plan is made, the agent in a deterministic environment (i.e., the transition function is deterministic with the outcome of each state/action pair fixed and no randomness) can just follow the path and does not need to care about the percepts.\n",
    "This is also called an **[open-loop system](https://en.wikipedia.org/wiki/Open-loop_controller).**\n",
    "The execution phase is trivial and we do not implement it in this exercise.\n",
    "\n",
    "Tree search algorithm implementations that you find online and used in general algorithms courses have often a different aim. These algorithms assume that you already have a tree in memory. We are interested in dynamically creating a search tree with the aim of finding a good/the best path from the root noteto the goal state. Follow the pseudo code presented in the text book (and replicated in the slides) closely. Ideally, we would like to search only a small part of the maze, i.e., create a search tree with as few nodes as possible. \n",
    "\n",
    "Several mazes for this exercise are stored as text files. Here is the small example maze:"
   ]
  },
  {
   "cell_type": "code",
   "execution_count": 466,
   "metadata": {},
   "outputs": [
    {
     "name": "stdout",
     "output_type": "stream",
     "text": [
      "XXXXXXXXXXXXXXXXXXXXXXXXXXXXXXXXXXXXX\n",
      "X       X X X           X   X     X X\n",
      "X XXXXXXX X XXX X XXX XXX XXXXXXX X X\n",
      "X       X       X X     X     X X   X\n",
      "XXXXX XXXXX XXX X X X XXX XXXXX X XXX\n",
      "X   X X X X   X X X X   X X   X X   X\n",
      "X XXX X X X XXX XXXXX XXX X XXX XXX X\n",
      "X       X     X   X   X     X X X   X\n",
      "XXX XXXXXXXXX XXXXXXX XXX XXX X X X X\n",
      "X             X       X X   X     X X\n",
      "X X XXXXX X XXX X X XXX X XXX XXX X X\n",
      "X X X     X X X X X     X   X X X X X\n",
      "X X X XXXXXXX X XXXXXXXXX XXX X XXX X\n",
      "X X X X     X   X     X     X   X   X\n",
      "XXX XXX X XXXXX XXXXX XXX XXX XXXXX X\n",
      "X     X X X     X X     X X   X X X X\n",
      "X X X X X XXX XXX XXX XXX X X X X X X\n",
      "X X X X X                 X X X     X\n",
      "XXX XXXXXXX X X XXXXX XXX X XXX XXXXX\n",
      "X       X X X X     X   X     X X   X\n",
      "XXXXX X X XXXXXXXXX XXXXXXXXXXX X XXX\n",
      "X   X X           X X     X   X X   X\n",
      "X XXX XXXXX XXXXXXXXX XXXXX X X XXX X\n",
      "X X   X      X        X     X       X\n",
      "X X X XXXXX XXX X X X X XXXXXXXXXXXXX\n",
      "X X X   X     X X X X       X   X X X\n",
      "X X XXX XXX X X X XXXXXXXXX XXX X X X\n",
      "X X   X X   X X X   X X   X X X     X\n",
      "X XXX XXX XXXXX XXX X X XXXXX X XXXXX\n",
      "X       X   X     X X     X   X X   X\n",
      "XXX X XXXXX XXXXX XXX XXX X XXX X XXX\n",
      "X X X X X X X X     X X   X X   X X X\n",
      "X X XXX X X X X XXXXXXXXX X X X X X X\n",
      "X   X   X   X                 X     X\n",
      "X X X X XXX XXX XXXXXXX XXX XXX XXX X\n",
      "XGX X X       X   X       X   X X  SX\n",
      "XXXXXXXXXXXXXXXXXXXXXXXXXXXXXXXXXXXXX\n",
      "\n"
     ]
    }
   ],
   "source": [
    "with open(\"large_maze.txt\", \"r\") as f:\n",
    "    maze_str = f.read()\n",
    "print(maze_str)"
   ]
  },
  {
   "cell_type": "markdown",
   "metadata": {},
   "source": [
    "__Note:__ The mazes above contains cycles and therefore the state space may not form proper trees unless cycles are prevented. Therfore, you will need to deal with cycle detection in your code."
   ]
  },
  {
   "cell_type": "markdown",
   "metadata": {},
   "source": [
    "## Parsing and pretty printing the maze\n",
    "\n",
    "The maze can also be displayed in color using code in the module [maze_helper.py](maze_helper.py). The code parses the string representing the maze and converts it into a `numpy` 2d array which you can use in your implementation. Position are represented as a 2-tuple of the form `(row, col)`. "
   ]
  },
  {
   "cell_type": "code",
   "execution_count": 467,
   "metadata": {
    "tags": []
   },
   "outputs": [
    {
     "name": "stdout",
     "output_type": "stream",
     "text": [
      "Position(0,0): X\n",
      "Position(8,1): X\n"
     ]
    }
   ],
   "source": [
    "import maze_helper as mh\n",
    "\n",
    "maze = mh.parse_maze(maze_str)\n",
    "\n",
    "# look at a position in the maze by subsetting the 2d array\n",
    "print(\"Position(0,0):\", maze[0, 0])\n",
    "\n",
    "# there is also a helper function called `look(maze, pos)` available\n",
    "# which uses a 2-tuple for the position.\n",
    "print(\"Position(8,1):\", mh.look(maze, (8, 1)))"
   ]
  },
  {
   "cell_type": "markdown",
   "metadata": {},
   "source": [
    "A helper function to visualize the maze is also available."
   ]
  },
  {
   "cell_type": "code",
   "execution_count": 468,
   "metadata": {},
   "outputs": [
    {
     "data": {
      "text/plain": "<Figure size 432x288 with 1 Axes>",
      "image/png": "[encoded data removed]"
     },
     "metadata": {
      "image/png": {
       "width": 251,
       "height": 249
      },
      "needs_background": "light"
     },
     "output_type": "display_data"
    }
   ],
   "source": [
    "%matplotlib inline\n",
    "%config InlineBackend.figure_format = 'retina'\n",
    "# use higher resolution images in notebook\n",
    "\n",
    "mh.show_maze(maze)"
   ]
  },
  {
   "cell_type": "markdown",
   "metadata": {},
   "source": [
    "Find the position of the start and the goal using the helper function `find_pos()`"
   ]
  },
  {
   "cell_type": "code",
   "execution_count": 469,
   "metadata": {},
   "outputs": [
    {
     "name": "stdout",
     "output_type": "stream",
     "text": [
      "Start location: (35, 35)\n",
      "Goal location: (35, 1)\n"
     ]
    }
   ],
   "source": [
    "print(\"Start location:\", mh.find_pos(maze, what = \"S\"))\n",
    "print(\"Goal location:\", mh.find_pos(maze, what = \"G\"))"
   ]
  },
  {
   "cell_type": "markdown",
   "metadata": {},
   "source": [
    "Helper function documentation."
   ]
  },
  {
   "cell_type": "code",
   "execution_count": 470,
   "metadata": {},
   "outputs": [
    {
     "name": "stdout",
     "output_type": "stream",
     "text": [
      "Help on module maze_helper:\n",
      "\n",
      "NAME\n",
      "    maze_helper\n",
      "\n",
      "DESCRIPTION\n",
      "    Code for the Maze Assignment by Michael Hahsler\n",
      "    Usage: \n",
      "        import maze_helper as mh\n",
      "        mh.show_some_mazes()\n",
      "\n",
      "FUNCTIONS\n",
      "    find_pos(maze, what='S')\n",
      "        Find start/goal in a maze and returns the first one. \n",
      "        Caution: there is no error checking!\n",
      "        \n",
      "        Parameters:\n",
      "        maze: a array with characters prodced by parse_maze()\n",
      "        what: the letter to be found ('S' for start and 'G' for goal)\n",
      "        \n",
      "        Returns:\n",
      "        a tupple (x, y) for the found position.\n",
      "    \n",
      "    look(maze, pos)\n",
      "        Look at the label of a square with the position as an array of the form (x, y).\n",
      "    \n",
      "    parse_maze(maze_str)\n",
      "        Convert a maze as a string into a 2d numpy array\n",
      "    \n",
      "    show_maze(maze, fontsize=10)\n",
      "        Display a (parsed) maze as an image.\n",
      "    \n",
      "    welcome()\n",
      "        Welcome message.\n",
      "\n",
      "FILE\n",
      "    /Users/williamstrickland/PycharmProjects/AI7320/CS7320-AI/Search/maze_helper.py\n",
      "\n",
      "\n"
     ]
    }
   ],
   "source": [
    "help(mh)"
   ]
  },
  {
   "cell_type": "markdown",
   "metadata": {},
   "source": [
    "## Tree structure\n",
    "\n",
    "Here is an implementation of the basic node structure for the search algorithms (see Fig 3.7 on page 73). I have added a method that extracts the path from the root node to the current node. It can be used to get the path when the search is completed."
   ]
  },
  {
   "cell_type": "code",
   "execution_count": 471,
   "metadata": {},
   "outputs": [],
   "source": [
    "class Node:\n",
    "    def __init__(self, pos, parent, action, cost):\n",
    "        self.pos = tuple(pos)    # the state; positions are (row,col)\n",
    "        self.parent = parent     # reference to parent node. None means root node.\n",
    "        self.action = action     # action used in the transition function (root node has None)\n",
    "        self.cost = cost         # for uniform cost this is the depth. It is also g(n) for A* search\n",
    "\n",
    "    def __str__(self):\n",
    "        return f\"Node - pos = {self.pos}; action = {self.action}; cost = {self.cost}\"\n",
    "    def getPos(self):\n",
    "        return self.pos\n",
    "\n",
    "    def get_path_from_root(self):\n",
    "        \"\"\"returns nodes on the path from the root to the current node.\"\"\"\n",
    "        node = self\n",
    "        path = [node]\n",
    "    \n",
    "        while not node.parent is None:\n",
    "            node = node.parent\n",
    "            path.append(node)\n",
    "        \n",
    "        path.reverse()\n",
    "        \n",
    "        return(path)\n",
    "\n"
   ]
  },
  {
   "cell_type": "markdown",
   "metadata": {},
   "source": [
    "If needed, then you can add more fields to the class like the heuristic value $h(n)$ or $f(n)$.\n",
    "\n",
    "Examples for how to create and use a tree and information on memory management can be found [here](../Python_Code_Examples/trees.ipynb)."
   ]
  },
  {
   "cell_type": "markdown",
   "metadata": {},
   "source": [
    "# Tasks\n",
    "\n",
    "The goal is to:\n",
    "\n",
    "1. Implement the following search algorithms for solving different mazes:\n",
    "\n",
    "    - Breadth-first search (BFS)\n",
    "    - Depth-first search (DFS)\n",
    "    - Greedy best-first search (GBFS)\n",
    "    - A* search\n",
    "\n",
    "2. Run each of the above algorithms on the \n",
    "    - [small maze](small_maze.txt), \n",
    "    - [medium maze](medium_maze.txt), \n",
    "    - [large maze](large_maze.txt), \n",
    "    - [open maze](open_maze.txt),\n",
    "    - [wall maze](wall_maze.txt),\n",
    "    - [loops maze](loops_maze.txt),\n",
    "    - [empty maze](empty_maze.txt), and\n",
    "    - [empty 2_maze](empty_2_maze.txt).\n",
    "    \n",
    "3. For each problem instance and each search algorithm, report the following in a table:\n",
    "\n",
    "    - The solution and its path cost\n",
    "    - Total number of nodes expanded\n",
    "    - Maximum tree depth\n",
    "    - Maximum size of the frontier\n",
    "\n",
    "4. Display each solution by marking every maze square (or state) visited and the squares on the final path.\n",
    "\n",
    "## General [10 Points]\n",
    "\n",
    "1. Make sure that you use the latest version of this notebook. Sync your forked repository and pull the latest revision. \n",
    "2. Your implementation can use libraries like math, numpy, scipy, but not libraries that implement inteligent agents or complete search algorithms. Try to keep the code simple! In this course, we want to learn about the algorithms and we often do not need to use object-oriented design.\n",
    "3. You notebook needs to be formated professionally. \n",
    "    - Add additional markdown blocks for your description, comments in the code, add tables and use mathplotlib to produce charts where appropriate\n",
    "    - Do not show debugging output or include an excessive amount of output.\n",
    "    - Check that your PDF file is readable. For example, long lines are cut off in the PDF file. You don't have control over page breaks, so do not worry about these.\n",
    "4. Document your code. Add a short discussion of how your implementation works and your design choices."
   ]
  },
  {
   "cell_type": "markdown",
   "metadata": {},
   "source": [
    "## Task 1: Defining the search problem and determining the problem size [10 Points]\n",
    "\n",
    "Define the components of the search problem:\n",
    "\n",
    "* Initial state\n",
    "* Actions\n",
    "* Transition model\n",
    "* Goal state\n",
    "* Path cost\n",
    "\n",
    "Use verbal descriptions, variables and equations as appropriate. \n",
    "\n",
    "*Note:* You can swich the next block from code to Markdown and use formating."
   ]
  },
  {
   "cell_type": "markdown",
   "source": [
    "The initial state of the search problem is\n",
    "\n",
    "the position of the starting node in the maze.\n"
   ],
   "metadata": {
    "collapsed": false
   }
  },
  {
   "cell_type": "markdown",
   "source": [
    "Give some estimates for the problem size:\n",
    "\n",
    "* $n$: state space size\n",
    "* $d$: depth of the optimal solution\n",
    "* $m$: maximum depth of tree\n",
    "* $b$: maximum branching factor\n",
    "\n",
    "Describe how you would determin these values for a given maze.\n",
    "\n",
    "* The state space for a given maze is the number of positions * the number of directions\n",
    "* The depth of the optimal solution would be the manhattan distance since the solution cannot be any better than that\n",
    "* The maximum depth of the tree would be the total number of positions on the board since there is a possibility that the maze is a line with no turns.\n",
    "* The maximum branching factor is always 3.\n"
   ],
   "metadata": {
    "collapsed": false
   }
  },
  {
   "cell_type": "markdown",
   "metadata": {},
   "source": [
    "## Task 2: Uninformed search: Breadth-first and depth-first [40 Points]\n",
    "\n",
    "Implement these search strategies. Follow the pseudocode in the textbook/slides. You can use the tree structure shown above to extract the final path from your solution.\n",
    "\n",
    "__Notes:__\n",
    "* You can find maze solving implementations online that use the map to store information. While this is an effective idea for this two-dimensional navigation problem, it typically cannot be used for other search problems. Therefore, follow the textbook and only store information in the tree created during search, and use the `reached` and `frontier` data structures.\n",
    "* DSF can be implemented using the BFS tree search algorithm and simply changing the order in which the frontier is expanded (this is equivalent to best-first search with path length as the criterion to expand the next node). However, to take advantage of the significantly smaller memory footprint of DFS, you need to implement DFS in a different way without a `reached` data structure and by releasing the memory for nodes that are not needed anymore. \n",
    "* If DFS does not use a `reached` data structure, then its cycle checking abilities are limited. Remember, that DSF is incomplete if cycles cannot be prevented. You will see in your experiments that open spaces are a problem."
   ]
  },
  {
   "cell_type": "code",
   "execution_count": 472,
   "metadata": {},
   "outputs": [],
   "source": [
    "# Your code goes here\n",
    "from collections import deque\n",
    "from queue import Queue\n",
    "from queue import LifoQueue\n",
    "\n",
    "start_node = Node(pos = mh.find_pos(maze, what = \"S\"), parent = None, action = None, cost = 0)\n",
    "end_node = Node(pos = mh.find_pos(maze, what = \"G\"), parent = None, action = None, cost = 0)\n",
    "#print(mh.look(maze,(0,1)))\n",
    "def expand(node):\n",
    "    neighbors = []\n",
    "    nodeRow = node.pos[0]\n",
    "    nodeCol = node.pos[1]\n",
    "\n",
    "    #check right\n",
    "    if mh.look(maze,(nodeRow,nodeCol+1))!='X':\n",
    "        rightNode = Node(pos=(nodeRow,nodeCol+1), parent=node, action = 'E', cost=1)\n",
    "        neighbors.append(rightNode)\n",
    "        # print(rightNode.pos[0])\n",
    "        # print(rightNode.pos[1])\n",
    "\n",
    "    #check down\n",
    "    if mh.look(maze,(nodeRow-1,nodeCol))!='X':\n",
    "        neighbors.append(Node(pos=(nodeRow-1,nodeCol), parent=node, action = 'E', cost=1))\n",
    "\n",
    "    #check left\n",
    "    if mh.look(maze,(nodeRow,nodeCol-1))!='X':\n",
    "        neighbors.append(Node(pos=(nodeRow,nodeCol-1), parent=node, action = 'E', cost=1))\n",
    "\n",
    "    #check up\n",
    "    if mh.look(maze,(nodeRow+1,nodeCol))!='X':\n",
    "        neighbors.append(Node(pos=(nodeRow+1,nodeCol), parent=node, action = 'E', cost=1))\n",
    "\n",
    "    return neighbors\n",
    "\n",
    "def BFS(start_node,end_node):\n",
    "    nodesExpanded=0\n",
    "    maxTreeDepth=0\n",
    "    maxFrontierSize=0\n",
    "    if(start_node==end_node):\n",
    "        return start_node\n",
    "    frontier = Queue(maxsize=0)\n",
    "    frontier.put(start_node)\n",
    "    reached = set()\n",
    "\n",
    "    while not frontier.empty():\n",
    "        if(frontier.qsize()>maxFrontierSize):\n",
    "            maxFrontierSize=frontier.qsize()\n",
    "        node=frontier.get()\n",
    "        if(len(node.get_path_from_root()))>maxTreeDepth:\n",
    "            maxTreeDepth=len(node.get_path_from_root())\n",
    "        children = expand(node)\n",
    "\n",
    "\n",
    "        for child in children:\n",
    "            s=child.pos\n",
    "            if s == end_node.getPos():\n",
    "                print(\"nodes expanded = \",nodesExpanded)\n",
    "                print(\"max tree depth = \",maxTreeDepth+1)\n",
    "                print(\"max nodes in memory = \",len(reached))\n",
    "                print(\"max frontier size = \",maxFrontierSize)\n",
    "                return child.get_path_from_root()\n",
    "\n",
    "            elif s not in reached:\n",
    "                nodesExpanded+=1\n",
    "                reached.add(s)\n",
    "                frontier.put(child)\n",
    "    return \"fail\"\n",
    "\n",
    "\n",
    "def isCycle(path):\n",
    "    posList = []\n",
    "    for node in path:\n",
    "        posList.append(node.getPos())\n",
    "    if len(posList) > len(set(posList)):\n",
    "        return True\n",
    "    else:\n",
    "        return False\n",
    "\n",
    "#\n",
    "# function DEPTH-LIMITED-SEARCH(problem, l) returns a node or failure or cutoff\n",
    "def DFS(start_node,end_node):\n",
    "    nodesExpanded=0\n",
    "    maxTreeDepth=0\n",
    "    maxFrontierSize=0\n",
    "    maxNodesInMem=0\n",
    "#   frontier←a LIFO queue (stack) with NODE(problem.INITIAL) as an element\n",
    "    if(start_node==end_node):\n",
    "        return start_node\n",
    "    frontier = LifoQueue(maxsize=0)\n",
    "    frontier.put(start_node)\n",
    "\n",
    "    while not frontier.empty():\n",
    "        if(frontier.qsize()>maxFrontierSize):\n",
    "            maxFrontierSize=frontier.qsize()\n",
    "        node=frontier.get()\n",
    "        if(len(node.get_path_from_root()))>maxTreeDepth:\n",
    "            maxTreeDepth=len(node.get_path_from_root())\n",
    "        if(len(node.get_path_from_root()))>maxNodesInMem:\n",
    "            maxNodesInMem=len(node.get_path_from_root())\n",
    "        if(node.getPos()==end_node.getPos()):\n",
    "            print(\"nodes expanded = \",nodesExpanded)\n",
    "            print(\"max tree depth = \",maxTreeDepth+1)\n",
    "            print(\"max nodes in memory = \",maxNodesInMem)\n",
    "            print(\"max frontier size = \",maxFrontierSize)\n",
    "            return node.get_path_from_root()\n",
    "\n",
    "        if not isCycle(node.get_path_from_root()):\n",
    "\n",
    "            children = expand(node)\n",
    "            for child in children:\n",
    "                nodesExpanded+=1\n",
    "                frontier.put(child)\n",
    "\n",
    " #Breadth Search\n",
    "# path = (BFS(start_node,end_node))\n",
    "# for node in path:\n",
    "#     print(node.getPos())\n",
    "# mh.show_maze(maze)\n",
    "\n",
    "#Depth search\n",
    "# path = (DFS(start_node,end_node))\n",
    "# for node in path:\n",
    "#     print(node.getPos())\n",
    "# mh.show_maze(maze)"
   ]
  },
  {
   "cell_type": "markdown",
   "metadata": {},
   "source": [
    "How does BFS and DFS deal with loops (cycles)?"
   ]
  },
  {
   "cell_type": "markdown",
   "source": [
    "Breadth first search deals with cycles by using a reached data structure. This works by checking to see if a node has already been reached before adding it to the frontier. Depth first search can also use a reached structure, but in order to reduce space complexity, it is removed. Instead you only keep the current path in memory, and check if the current path is a cycle before adding a child to the frontier."
   ],
   "metadata": {
    "collapsed": false
   }
  },
  {
   "cell_type": "markdown",
   "metadata": {},
   "source": [
    "Are your implementations complete and optimal? Explain why. What is the time and space complexity of each of **your** implementations?\n",
    "\n",
    "* The depth first search does not use a reached data structure, so it only stores the current path in order to check for cycles which makes the space complexity much more efficient.\n",
    "* Breadth first is complete and optimal because the cost is the same for each step. The time and space complexity for breadth first search is O(b<sup>d</sup>)\n",
    "* Depth first search is only complete in finite search spaces (without cycles). Depth first search is not optimal because it returns the first solution it finds. The time complexity for depth first search is also O(b<sup>d</sup>), but the space complexity since I do not use a reached data structure is O(bm)\n"
   ]
  },
  {
   "cell_type": "markdown",
   "metadata": {},
   "source": [
    "## Task 3: Informed search: Implement greedy best-first search and A* search  [20 Points]\n",
    "\n",
    "You can use the map to estimate the distance from your current position to the goal using the Manhattan distance (see https://en.wikipedia.org/wiki/Taxicab_geometry) as a heuristic function. Both algorithms are based on Best-First search which requires only a small change from the BFS algorithm you have already implemented (see textbook/slides). "
   ]
  },
  {
   "cell_type": "code",
   "execution_count": 473,
   "metadata": {},
   "outputs": [],
   "source": [
    "# Your code goes here\n",
    "\n",
    "def getManhattan(curr_node, end_node):\n",
    "    xDist=abs(end_node.getPos()[0]-curr_node.getPos()[0])\n",
    "    yDist=abs(end_node.getPos()[1]-curr_node.getPos()[1])\n",
    "    return xDist+yDist\n",
    "\n",
    "def sortFrontier(frontier):\n",
    "    for i in range (0,len(frontier)):\n",
    "        for j in range(i+1,len(frontier)):\n",
    "            if getManhattan(frontier[j],end_node)<getManhattan(frontier[i],end_node):\n",
    "                frontier[j], frontier[i] = frontier[i], frontier[j]\n",
    "    return frontier\n",
    "\n",
    "def aStarSortFrontier(frontier):\n",
    "    for i in range (0,len(frontier)):\n",
    "        for j in range(i+1,len(frontier)):\n",
    "            if getManhattan(frontier[j],end_node)+len(frontier[j].get_path_from_root())<getManhattan(frontier[i],end_node)+len(frontier[i].get_path_from_root()):\n",
    "                frontier[j], frontier[i] = frontier[i], frontier[j]\n",
    "    return frontier\n",
    "\n",
    "def bestFirstSearch(start_node, end_node):\n",
    "    nodesExpanded=0\n",
    "    maxTreeDepth=0\n",
    "    maxFrontierSize=0\n",
    "    if(start_node==end_node):\n",
    "        return start_node\n",
    "    frontier = Queue(maxsize=0)\n",
    "    frontier.put(start_node)\n",
    "    reached = {}\n",
    "\n",
    "    while not frontier.empty():\n",
    "        if(frontier.qsize()>maxFrontierSize):\n",
    "            maxFrontierSize=frontier.qsize()\n",
    "        node=frontier.get()\n",
    "        if(len(node.get_path_from_root()))>maxTreeDepth:\n",
    "            maxTreeDepth=len(node.get_path_from_root())\n",
    "\n",
    "        children = sortFrontier(expand(node))\n",
    "\n",
    "\n",
    "        for child in children:\n",
    "            s=child.pos\n",
    "            if s == end_node.getPos():\n",
    "                print(\"nodes expanded = \",nodesExpanded)\n",
    "                print(\"max tree depth = \",maxTreeDepth+1)\n",
    "                print(\"max nodes in memory = \",len(reached))\n",
    "                print(\"max frontier size = \",maxFrontierSize)\n",
    "                return child.get_path_from_root()\n",
    "            elif s not in reached or len(child.get_path_from_root())<reached.get(s):\n",
    "                reached.update({s:len(child.get_path_from_root())})\n",
    "                nodesExpanded+=1\n",
    "                frontier.put(child)\n",
    "    return \"fail\"\n",
    "\n",
    "\n",
    "def aStarSearch(start_node, end_node):\n",
    "    nodesExpanded=0\n",
    "    maxTreeDepth=0\n",
    "    maxFrontierSize=0\n",
    "    if(start_node==end_node):\n",
    "        return start_node\n",
    "    frontier = Queue(maxsize=0)\n",
    "    frontier.put(start_node)\n",
    "    reached = {}\n",
    "\n",
    "    while not frontier.empty():\n",
    "        if(frontier.qsize()>maxFrontierSize):\n",
    "            maxFrontierSize=frontier.qsize()\n",
    "        node=frontier.get()\n",
    "        if(len(node.get_path_from_root()))>maxTreeDepth:\n",
    "            maxTreeDepth=len(node.get_path_from_root())\n",
    "        children = aStarSortFrontier(expand(node))\n",
    "\n",
    "\n",
    "        for child in children:\n",
    "            s=child.pos\n",
    "            if s == end_node.getPos():\n",
    "                print(\"nodes expanded = \",nodesExpanded)\n",
    "                print(\"max tree depth = \",maxTreeDepth+1)\n",
    "                print(\"max nodes in memory = \",len(reached))\n",
    "                print(\"max frontier size = \",maxFrontierSize)\n",
    "                return child.get_path_from_root()\n",
    "            elif s not in reached or len(child.get_path_from_root())<reached.get(s):\n",
    "                reached.update({s:len(child.get_path_from_root())})\n",
    "                nodesExpanded+=1\n",
    "                frontier.put(child)\n",
    "    return \"fail\"\n",
    "\n",
    "# path = (bestFirstSearch(start_node,end_node))\n",
    "# for node in path:\n",
    "#     print(node.getPos())\n",
    "# mh.show_maze(maze)\n",
    "\n",
    "# path = (aStarSearch(start_node,end_node))\n",
    "# for node in path:\n",
    "#     print(node.getPos())\n",
    "# mh.show_maze(maze)"
   ]
  },
  {
   "cell_type": "markdown",
   "metadata": {},
   "source": [
    "Are your implementations complete and optimal? What is the time and space complexity?\n",
    "\n",
    "* Greedy best first is complete in finite spaces, but not optimal. The worst case time complexity is O(b<sup>m</sup>) and the best case is O(bm) if the heuristic is 100% accurate. However I do not believe that mine is so I do not think it will achieve that best case. The space complexity is the same as time complexity.\n",
    "* A* search is complete and optimal, and the time and space complexity are the same which is the number of nodes where f(n) <= C*"
   ]
  },
  {
   "cell_type": "markdown",
   "metadata": {},
   "source": [
    "## Task 4: Comparison and discussion [20 Points] \n",
    "\n",
    "Run experiments to compare the implemented algorithms.\n",
    "\n",
    "How to deal with issues:\n",
    "\n",
    "* Your implementation returns unexpected results: Try to debug and fix the code. Visualizing the maze, the current path and the frontier after every step is very helpful. If the code still does not work, then mark the result with an asterisk (*) and describe the issue below the table.\n",
    "\n",
    "* Your implementation cannot consistently solve a specific maze and ends up in an infinite loop:\n",
    "    Debug. If it is a shortcoming of the algorithm/implementation, then put \"N/A*\" in the results table and describe why this is happening."
   ]
  },
  {
   "cell_type": "code",
   "execution_count": 474,
   "metadata": {},
   "outputs": [
    {
     "name": "stdout",
     "output_type": "stream",
     "text": [
      "nodes expanded =  622\n",
      "max tree depth =  211\n",
      "max nodes in memory =  622\n",
      "max frontier size =  9\n",
      "BFS path cost =  211\n",
      "nodes expanded =  725\n",
      "max tree depth =  212\n",
      "max nodes in memory =  211\n",
      "max frontier size =  154\n",
      "DFS path cost =  211\n",
      "nodes expanded =  620\n",
      "max tree depth =  211\n",
      "max nodes in memory =  620\n",
      "max frontier size =  8\n",
      "Greedy Best First path cost =  211\n",
      "nodes expanded =  620\n",
      "max tree depth =  211\n",
      "max nodes in memory =  620\n",
      "max frontier size =  8\n",
      "A* path cost =  211\n"
     ]
    }
   ],
   "source": [
    "# Add code\n",
    "path = (BFS(start_node,end_node))\n",
    "print(\"BFS path cost = \",len(path))\n",
    "\n",
    "path = (DFS(start_node,end_node))\n",
    "print(\"DFS path cost = \",len(path))\n",
    "\n",
    "path = (bestFirstSearch(start_node,end_node))\n",
    "print(\"Greedy Best First path cost = \",len(path))\n",
    "\n",
    "path = (aStarSearch(start_node,end_node))\n",
    "print(\"A* path cost = \",len(path))\n"
   ]
  },
  {
   "cell_type": "markdown",
   "metadata": {},
   "source": [
    "Complete the following table for each maze.\n",
    "\n",
    "__Small maze__\n",
    "\n",
    "| algorithm | path cost | # of nodes expanded | max tree depth | max # of nodes in memory | max frontier size |\n",
    "|-----------|-----------|---------------------|----------------|--------------------------|-------------------|\n",
    "| BFS       | 20        | 92                  | 20             | 92                       | 9                 |\n",
    "| DFS       | 30        | 81                  | 31             | 30                       | 26                |\n",
    "| GBS       | 20        | 91                  | 20             | 91                       | 8                 |\n",
    "| A*        | 20        | 91                  | 20             | 91                       | 8                 |\n",
    "\n",
    "__Medium Maze__\n",
    "\n",
    "| algorithm | path cost | # of nodes expanded | max tree depth | max # of nodes in memory | max frontier size |\n",
    "|-----------|-----------|---------------------|----------------|--------------------------|-------------------|\n",
    "| BFS       | 69        | 270                 | 69             | 270                      | 8                 |\n",
    "| DFS       | 77        | 158                 | 78             | 77                       | 68                |\n",
    "| GBS       | 69        | 269                 | 69             | 269                      | 8                 |\n",
    "| A*        | 69        | 269                 | 69             | 269                      | 8                 |\n",
    "\n",
    "__Large Maze__\n",
    "\n",
    "| algorithm | path cost | # of nodes expanded | max tree depth | max # of nodes in memory | max frontier size |\n",
    "|-----------|-----------|---------------------|----------------|--------------------------|-------------------|\n",
    "| BFS       | 211       | 622                 | 211            | 622                      | 9                 |\n",
    "| DFS       | 211       | 725                 | 212            | 211                      | 154               |\n",
    "| GBS       | 211       | 620                 | 211            | 620                      | 8                 |\n",
    "| A*        | 211       | 620                 | 211            | 620                      | 8                 |\n",
    "\n",
    "__wall maze__\n",
    "\n",
    "| algorithm | path cost | # of nodes expanded | max tree depth | max # of nodes in memory | max frontier size |\n",
    "|-----------|-----------|---------------------|----------------|--------------------------|-------------------|\n",
    "| BFS       | 15        | 88                  | 15             | 88                       | 11                |\n",
    "| DFS       | 65        | 3736                | 15             | 74                       | 11                |\n",
    "| GBS       | 15        | 87                  | 15             | 87                       | 11                |\n",
    "| A*        | 15        | 87                  | 15             | 87                       | 11                |\n",
    "\n",
    "__open maze__\n",
    "\n",
    "| algorithm | path cost | # of nodes expanded | max tree depth | max # of nodes in memory | max frontier size |\n",
    "|-----------|-----------|---------------------|----------------|--------------------------|-------------------|\n",
    "| BFS       | 55        | 683                 | 55             | 683                      | 23                |\n",
    "| DFS       | 69        | 209                 | 70             | 69                       | 135               |\n",
    "| GBS       | 55        | 682                 | 55             | 682                      | 23                |\n",
    "| A*        | 55        | 682                 | 55             | 682                      | 23                |\n",
    "\n",
    "\n",
    "__loops maze__\n",
    "\n",
    "| algorithm | path cost | # of nodes expanded | max tree depth | max # of nodes in memory | max frontier size |\n",
    "|-----------|-----------|---------------------|----------------|--------------------------|-------------------|\n",
    "| BFS       | 24        | 71                  | 24             | 71                       | 8                 |\n",
    "| DFS       | 48        | 136                 | 49             | 48                       | 44                |\n",
    "| GBS       | 24        | 71                  | 24             | 71                       | 8                 |\n",
    "| A*        | 24        | 71                  | 24             | 71                       | 8                 |\n",
    "\n",
    "__L maze__\n",
    "\n",
    "| algorithm | path cost | # of nodes expanded | max tree depth | max # of nodes in memory | max frontier size |\n",
    "|-----------|-----------|---------------------|----------------|------------------------|-------------------|\n",
    "| BFS       | 15        | 139                 | 15             | 139                    | 19                |\n",
    "| DFS       | 127       | 472                 | 128            | 127                    | 197               |\n",
    "| GBS       | 15        | 138                 | 15             | 138                    | 19                |\n",
    "| A*        | 15        | 138                 | 15             | 138                    | 19                |\n",
    "\n",
    "\n",
    "__Empty 2 maze__\n",
    "\n",
    "| algorithm | path cost | # of nodes expanded | max tree depth | max # of nodes in memory | max frontier size |\n",
    "|-----------|-----------|---------------------|----------------|--------------------------|-------------------|\n",
    "| BFS       | 15        | 95                  | 15             | 95                       | 11                |\n",
    "| DFS       | 35        | 115                 | 36             | 35                       | 73                |\n",
    "| GBS       | 15        | 94                  | 15             | 94                       | 12                |\n",
    "| A*        | 15        | 94                  | 15             | 94                       | 12                |\n",
    "\n",
    "\n",
    "__Empty maze__\n",
    "\n",
    "| algorithm | path cost | # of nodes expanded | max tree depth | max # of nodes in memory | max frontier size |\n",
    "|-----------|-----------|---------------------|----------------|--------------------------|-------------------|\n",
    "| BFS       | 15        | 95                  | 15             | 95                       | 12                |\n",
    "| DFS       | 81        | 294                 | 82             | 81                       | 131               |\n",
    "| GBS       | 15        | 94                  | 15             | 94                       | 12                |\n",
    "| A*        | 15        | 94                  | 15             | 94                       | 12                |\n",
    "\n"
   ]
  },
  {
   "cell_type": "markdown",
   "metadata": {},
   "source": [
    "Present the results as using charts (see [Python Code Examples/charts and tables](../Python_Code_Examples/charts_and_tables.ipynb))."
   ]
  },
  {
   "cell_type": "markdown",
   "metadata": {},
   "source": [
    "Discuss the most important lessons you have learned from implementing the different search strategies.\n",
    "\n",
    "* I have learned a lot about how different algorithms check for cycles. For example, checking for a cycle by using a reached structure vs. using a cycle checking method which is much more memory efficient. I have also learned a lot about the different heuristics that are used when determining how to expand the frontier. For example, ordering the queue by only manhattan distance versus ordering it by a combination of manhattan distance as well as the path cost, which is used in A* search."
   ]
  },
  {
   "cell_type": "markdown",
   "metadata": {},
   "source": [
    "## Graduate student advanced task: Multiple goals [10 Points]\n",
    "\n",
    "__Undergraduate students:__ This is a bonus task you can attempt if you like [+5 Bonus Points].\n",
    "\n",
    "Create a few mazes with multiple goals by adding one or two more goals to the medium size maze.\n",
    "Solve the maze with your implementations for DFS, BFS, and implement in addition IDS (iterative deepening search using DFS). \n",
    "\n",
    "Run experiments to show which implementations find the optimal solution and which do not. Discuss why that is the case."
   ]
  },
  {
   "cell_type": "code",
   "execution_count": 475,
   "metadata": {},
   "outputs": [],
   "source": [
    "# Your code/answer goes here"
   ]
  },
  {
   "cell_type": "markdown",
   "metadata": {},
   "source": [
    "## More advanced tasks to think about\n",
    "\n",
    "Instead of defining each square as a state, use only intersections as states. Now the storage requirement is reduced, but the path length between two intersections can be different. If we use total path length measured as the number of squares as path cost, how can we make sure that BFS and iterative deepening search is optimal? Change the code to do so."
   ]
  },
  {
   "cell_type": "code",
   "execution_count": 476,
   "metadata": {},
   "outputs": [],
   "source": [
    "# Your code/answer goes here"
   ]
  },
  {
   "cell_type": "markdown",
   "metadata": {},
   "source": [
    "Modify your A* search to add weights (see text book) and explore how different weights influence the result."
   ]
  },
  {
   "cell_type": "code",
   "execution_count": 477,
   "metadata": {},
   "outputs": [],
   "source": [
    "# Your code/answer goes here"
   ]
  },
  {
   "cell_type": "markdown",
   "metadata": {},
   "source": [
    "What happens if the agent does not know the layout of the maze in advance (i.e., faces an unkown, only partially observable environment)? How does the environment look then (PEAS description)? How would you implement a rational agent to solve the maze? What if the agent still has a GPS device to tell the distance to the goal?"
   ]
  },
  {
   "cell_type": "code",
   "execution_count": 478,
   "metadata": {},
   "outputs": [],
   "source": [
    "# Your code/answer goes here"
   ]
  }
 ],
 "metadata": {
  "kernelspec": {
   "display_name": "Python 3 (ipykernel)",
   "language": "python",
   "name": "python3"
  },
  "language_info": {
   "codemirror_mode": {
    "name": "ipython",
    "version": 3
   },
   "file_extension": ".py",
   "mimetype": "text/x-python",
   "name": "python",
   "nbconvert_exporter": "python",
   "pygments_lexer": "ipython3",
   "version": "3.9.5"
  }
 },
 "nbformat": 4,
 "nbformat_minor": 4
}